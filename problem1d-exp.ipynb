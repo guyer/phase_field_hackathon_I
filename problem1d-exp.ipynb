{
 "cells": [
  {
   "cell_type": "code",
   "execution_count": 1,
   "metadata": {
    "collapsed": true
   },
   "outputs": [],
   "source": [
    "%matplotlib inline"
   ]
  },
  {
   "cell_type": "code",
   "execution_count": 2,
   "metadata": {
    "collapsed": true
   },
   "outputs": [],
   "source": [
    "import fipy as fp"
   ]
  },
  {
   "cell_type": "code",
   "execution_count": 3,
   "metadata": {
    "collapsed": true
   },
   "outputs": [],
   "source": [
    "from fipy import numerix as nmx"
   ]
  },
  {
   "cell_type": "code",
   "execution_count": 26,
   "metadata": {
    "collapsed": false
   },
   "outputs": [],
   "source": [
    "mesh = fp.Gmsh2DIn3DSpace('''\n",
    "    radius = 100.0;\n",
    "    cellSize = 1.;\n",
    "    \n",
    "    // create inner 1/8 shell\n",
    "    Point(1) = {0, 0, 0, cellSize};\n",
    "    Point(2) = {-radius, 0, 0, cellSize};\n",
    "    Point(3) = {0, radius, 0, cellSize};\n",
    "    Point(4) = {0, 0, radius, cellSize};\n",
    "    Circle(1) = {2, 1, 3};\n",
    "    Circle(2) = {4, 1, 2};\n",
    "    Circle(3) = {4, 1, 3};\n",
    "    Line Loop(1) = {1, -3, 2} ;\n",
    "    Ruled Surface(1) = {1};\n",
    "    \n",
    "    // create remaining 7/8 inner shells\n",
    "    t1[] = Rotate {{0,0,1},{0,0,0},Pi/2} {Duplicata{Surface{1};}};\n",
    "    t2[] = Rotate {{0,0,1},{0,0,0},Pi} {Duplicata{Surface{1};}};\n",
    "    t3[] = Rotate {{0,0,1},{0,0,0},Pi*3/2} {Duplicata{Surface{1};}};\n",
    "    t4[] = Rotate {{0,1,0},{0,0,0},-Pi/2} {Duplicata{Surface{1};}};\n",
    "    t5[] = Rotate {{0,0,1},{0,0,0},Pi/2} {Duplicata{Surface{t4[0]};}};\n",
    "    t6[] = Rotate {{0,0,1},{0,0,0},Pi} {Duplicata{Surface{t4[0]};}};\n",
    "    t7[] = Rotate {{0,0,1},{0,0,0},Pi*3/2} {Duplicata{Surface{t4[0]};}};\n",
    "    \n",
    "    // create entire inner and outer shell\n",
    "    Surface Loop(100)={1,t1[0],t2[0],t3[0],t7[0],t4[0],t5[0],t6[0]};\n",
    "''', order=2).extrude(extrudeFunc=lambda r: 1.01 * r)"
   ]
  },
  {
   "cell_type": "code",
   "execution_count": 27,
   "metadata": {
    "collapsed": true
   },
   "outputs": [],
   "source": [
    "C = fp.CellVariable(mesh=mesh, name=\"C\", hasOld=True)"
   ]
  },
  {
   "cell_type": "code",
   "execution_count": 28,
   "metadata": {
    "collapsed": false
   },
   "outputs": [],
   "source": [
    "Calpha = 0.05\n",
    "Cbeta = 0.95\n",
    "Cm = (Calpha + Cbeta) / 2.\n",
    "A = 2.0\n",
    "B = A / (Calpha - Cm)**2\n",
    "D = Dalpha = Dbeta = 2 / (Cbeta - Calpha)\n",
    "kappa = 2.0"
   ]
  },
  {
   "cell_type": "code",
   "execution_count": 29,
   "metadata": {
    "collapsed": false
   },
   "outputs": [],
   "source": [
    "f0 = -(A/2)*(C - Cm)**2 + (B/4)*(C - Cm)**4 + (Calpha/4)*(C - Calpha)**4 + (Cbeta/4)*(C - Cbeta)**4"
   ]
  },
  {
   "cell_type": "code",
   "execution_count": 30,
   "metadata": {
    "collapsed": true
   },
   "outputs": [],
   "source": [
    "f = f0 + (kappa/2.)*(C.grad.mag)**2\n",
    "f.name = \"f\""
   ]
  },
  {
   "cell_type": "code",
   "execution_count": 31,
   "metadata": {
    "collapsed": false
   },
   "outputs": [],
   "source": [
    "Cf = C.arithmeticFaceValue\n",
    "eq = (fp.TransientTerm(coeff=1.)\n",
    "      == fp.DiffusionTerm(coeff=D*(-A + 3*B*(Cf - Cm)**2 + 3*Calpha*(Cf - Calpha)**2 + 3*Cbeta*(Cf - Cbeta)**2))\n",
    "      - fp.DiffusionTerm(coeff=(D,kappa)))"
   ]
  },
  {
   "cell_type": "code",
   "execution_count": 32,
   "metadata": {
    "collapsed": false
   },
   "outputs": [],
   "source": [
    "epsilon = 0.01\n",
    "theta = nmx.arctan2(mesh.z, nmx.sqrt(mesh.x**2 + mesh.y**2))\n",
    "phi = nmx.arctan2(mesh.y, mesh.x)\n",
    "C.value = 0.45 + epsilon * nmx.cos(nmx.sqrt(233.) * theta) * nmx.sin(nmx.sqrt(239.) * phi)"
   ]
  },
  {
   "cell_type": "code",
   "execution_count": 11,
   "metadata": {
    "collapsed": false
   },
   "outputs": [
    {
     "name": "stdout",
     "output_type": "stream",
     "text": [
      "viewer: NOT READY\n"
     ]
    }
   ],
   "source": [
    "fp.Viewer(vars=theta).plot()"
   ]
  },
  {
   "cell_type": "code",
   "execution_count": 12,
   "metadata": {
    "collapsed": false
   },
   "outputs": [
    {
     "name": "stdout",
     "output_type": "stream",
     "text": [
      "viewer: NOT READY\n"
     ]
    }
   ],
   "source": [
    "fp.Viewer(vars=phi).plot()"
   ]
  },
  {
   "cell_type": "code",
   "execution_count": 76,
   "metadata": {
    "collapsed": false
   },
   "outputs": [],
   "source": [
    "viewer = fp.Viewer(vars=(C))"
   ]
  },
  {
   "cell_type": "code",
   "execution_count": 30,
   "metadata": {
    "collapsed": false
   },
   "outputs": [
    {
     "name": "stdout",
     "output_type": "stream",
     "text": [
      "viewer: NOT READY\n"
     ]
    }
   ],
   "source": [
    "viewer.plot()"
   ]
  },
  {
   "cell_type": "code",
   "execution_count": 11,
   "metadata": {
    "collapsed": true
   },
   "outputs": [],
   "source": [
    "import os"
   ]
  },
  {
   "cell_type": "code",
   "execution_count": 33,
   "metadata": {
    "collapsed": true
   },
   "outputs": [],
   "source": [
    "direc = \"1d-exp\""
   ]
  },
  {
   "cell_type": "code",
   "execution_count": 34,
   "metadata": {
    "collapsed": false
   },
   "outputs": [],
   "source": [
    "os.mkdir(direc)"
   ]
  },
  {
   "cell_type": "code",
   "execution_count": 14,
   "metadata": {
    "collapsed": false
   },
   "outputs": [],
   "source": [
    "os.chdir(os.path.join(os.getcwd(), direc))"
   ]
  },
  {
   "cell_type": "code",
   "execution_count": 36,
   "metadata": {
    "collapsed": false
   },
   "outputs": [],
   "source": [
    "!rm -r *"
   ]
  },
  {
   "cell_type": "code",
   "execution_count": 37,
   "metadata": {
    "collapsed": true
   },
   "outputs": [],
   "source": [
    "fp.tools.dump.write(mesh, filename=\"mesh.dmp\")"
   ]
  },
  {
   "cell_type": "code",
   "execution_count": 38,
   "metadata": {
    "collapsed": true
   },
   "outputs": [],
   "source": [
    "fp.TSVViewer(vars=C).plot(filename=\"{step}.gz\".format(step=0))"
   ]
  },
  {
   "cell_type": "code",
   "execution_count": 39,
   "metadata": {
    "collapsed": true
   },
   "outputs": [],
   "source": [
    "with open(\"stats.txt\", 'w') as stats:\n",
    "    stats.write(\"\\t\".join([\"step\", \"t\", \"dt\", \"Cmin\", \"Cmax\", \"f\"]) + \"\\n\")"
   ]
  },
  {
   "cell_type": "code",
   "execution_count": 40,
   "metadata": {
    "collapsed": true
   },
   "outputs": [],
   "source": [
    "dexp = -5\n",
    "elapsed = 0.\n",
    "saved = elapsed\n",
    "duration = 10000.\n",
    "step = 0"
   ]
  },
  {
   "cell_type": "code",
   "execution_count": 41,
   "metadata": {
    "collapsed": false
   },
   "outputs": [
    {
     "name": "stderr",
     "output_type": "stream",
     "text": [
      "/Users/guyer/anaconda/envs/fipy_petsc/lib/python2.7/site-packages/ipykernel/__main__.py:6: MaximumIterationWarning: Iterations: 1001. Relative error: 1.03729e-08\n",
      "/Users/guyer/anaconda/envs/fipy_petsc/lib/python2.7/site-packages/ipykernel/__main__.py:6: MaximumIterationWarning: Iterations: 1001. Relative error: 6.90972e-10\n",
      "/Users/guyer/anaconda/envs/fipy_petsc/lib/python2.7/site-packages/ipykernel/__main__.py:6: MaximumIterationWarning: Iterations: 1001. Relative error: 0.0607104\n",
      "/Users/guyer/anaconda/envs/fipy_petsc/lib/python2.7/site-packages/ipykernel/__main__.py:6: MaximumIterationWarning: Iterations: 1001. Relative error: 6.82997e-07\n",
      "/Users/guyer/anaconda/envs/fipy_petsc/lib/python2.7/site-packages/ipykernel/__main__.py:6: MaximumIterationWarning: Iterations: 1001. Relative error: 0.356507\n",
      "/Users/guyer/anaconda/envs/fipy_petsc/lib/python2.7/site-packages/ipykernel/__main__.py:6: MaximumIterationWarning: Iterations: 1001. Relative error: 1.91353e-06\n",
      "/Users/guyer/anaconda/envs/fipy_petsc/lib/python2.7/site-packages/ipykernel/__main__.py:6: MaximumIterationWarning: Iterations: 1001. Relative error: 0.900203\n",
      "/Users/guyer/anaconda/envs/fipy_petsc/lib/python2.7/site-packages/ipykernel/__main__.py:6: MaximumIterationWarning: Iterations: 1001. Relative error: 1.30071\n",
      "/Users/guyer/anaconda/envs/fipy_petsc/lib/python2.7/site-packages/ipykernel/__main__.py:6: MaximumIterationWarning: Iterations: 1001. Relative error: 1.15301\n",
      "/Users/guyer/anaconda/envs/fipy_petsc/lib/python2.7/site-packages/ipykernel/__main__.py:6: MaximumIterationWarning: Iterations: 1001. Relative error: 3.6938\n",
      "/Users/guyer/anaconda/envs/fipy_petsc/lib/python2.7/site-packages/ipykernel/__main__.py:6: MaximumIterationWarning: Iterations: 1001. Relative error: 13.0073\n",
      "/Users/guyer/anaconda/envs/fipy_petsc/lib/python2.7/site-packages/ipykernel/__main__.py:6: MaximumIterationWarning: Iterations: 1001. Relative error: 21.0704\n",
      "/Users/guyer/anaconda/envs/fipy_petsc/lib/python2.7/site-packages/ipykernel/__main__.py:6: MaximumIterationWarning: Iterations: 1001. Relative error: 980.119\n",
      "/Users/guyer/anaconda/envs/fipy_petsc/lib/python2.7/site-packages/ipykernel/__main__.py:6: MaximumIterationWarning: Iterations: 1001. Relative error: 4781.14\n",
      "/Users/guyer/anaconda/envs/fipy_petsc/lib/python2.7/site-packages/ipykernel/__main__.py:6: MaximumIterationWarning: Iterations: 1001. Relative error: 5.25623\n",
      "/Users/guyer/anaconda/envs/fipy_petsc/lib/python2.7/site-packages/ipykernel/__main__.py:6: MaximumIterationWarning: Iterations: 1001. Relative error: 0.000274929\n",
      "/Users/guyer/anaconda/envs/fipy_petsc/lib/python2.7/site-packages/ipykernel/__main__.py:6: MaximumIterationWarning: Iterations: 1001. Relative error: 3.07558e-07\n",
      "/Users/guyer/anaconda/envs/fipy_petsc/lib/python2.7/site-packages/ipykernel/__main__.py:6: StagnatedSolverWarning: The solver stagnated. Iterations: 374. Relative error: 1.04209e-09\n",
      "/Users/guyer/anaconda/envs/fipy_petsc/lib/python2.7/site-packages/ipykernel/__main__.py:6: StagnatedSolverWarning: The solver stagnated. Iterations: 250. Relative error: 1.22142e-09\n",
      "/Users/guyer/anaconda/envs/fipy_petsc/lib/python2.7/site-packages/ipykernel/__main__.py:6: StagnatedSolverWarning: The solver stagnated. Iterations: 733. Relative error: 1.32005e-09\n",
      "/Users/guyer/anaconda/envs/fipy_petsc/lib/python2.7/site-packages/ipykernel/__main__.py:6: StagnatedSolverWarning: The solver stagnated. Iterations: 751. Relative error: 1.4269e-09\n",
      "/Users/guyer/anaconda/envs/fipy_petsc/lib/python2.7/site-packages/ipykernel/__main__.py:6: StagnatedSolverWarning: The solver stagnated. Iterations: 264. Relative error: 1.25948e-09\n",
      "/Users/guyer/anaconda/envs/fipy_petsc/lib/python2.7/site-packages/ipykernel/__main__.py:6: StagnatedSolverWarning: The solver stagnated. Iterations: 264. Relative error: 1.0428e-09\n",
      "/Users/guyer/anaconda/envs/fipy_petsc/lib/python2.7/site-packages/ipykernel/__main__.py:6: StagnatedSolverWarning: The solver stagnated. Iterations: 762. Relative error: 1.46035e-09\n",
      "/Users/guyer/anaconda/envs/fipy_petsc/lib/python2.7/site-packages/ipykernel/__main__.py:6: StagnatedSolverWarning: The solver stagnated. Iterations: 767. Relative error: 1.05498e-09\n",
      "/Users/guyer/anaconda/envs/fipy_petsc/lib/python2.7/site-packages/ipykernel/__main__.py:6: StagnatedSolverWarning: The solver stagnated. Iterations: 768. Relative error: 1.17462e-09\n",
      "/Users/guyer/anaconda/envs/fipy_petsc/lib/python2.7/site-packages/ipykernel/__main__.py:6: StagnatedSolverWarning: The solver stagnated. Iterations: 780. Relative error: 1.32552e-09\n",
      "/Users/guyer/anaconda/envs/fipy_petsc/lib/python2.7/site-packages/ipykernel/__main__.py:6: StagnatedSolverWarning: The solver stagnated. Iterations: 771. Relative error: 1.12207e-09\n",
      "/Users/guyer/anaconda/envs/fipy_petsc/lib/python2.7/site-packages/ipykernel/__main__.py:6: StagnatedSolverWarning: The solver stagnated. Iterations: 773. Relative error: 1.46467e-09\n",
      "/Users/guyer/anaconda/envs/fipy_petsc/lib/python2.7/site-packages/ipykernel/__main__.py:6: StagnatedSolverWarning: The solver stagnated. Iterations: 184. Relative error: 1.28644e-09\n",
      "/Users/guyer/anaconda/envs/fipy_petsc/lib/python2.7/site-packages/ipykernel/__main__.py:6: StagnatedSolverWarning: The solver stagnated. Iterations: 175. Relative error: 1.36206e-09\n",
      "/Users/guyer/anaconda/envs/fipy_petsc/lib/python2.7/site-packages/ipykernel/__main__.py:6: StagnatedSolverWarning: The solver stagnated. Iterations: 766. Relative error: 1.37043e-09\n",
      "/Users/guyer/anaconda/envs/fipy_petsc/lib/python2.7/site-packages/ipykernel/__main__.py:6: StagnatedSolverWarning: The solver stagnated. Iterations: 750. Relative error: 1.24502e-09\n",
      "/Users/guyer/anaconda/envs/fipy_petsc/lib/python2.7/site-packages/ipykernel/__main__.py:6: StagnatedSolverWarning: The solver stagnated. Iterations: 757. Relative error: 1.28723e-09\n",
      "/Users/guyer/anaconda/envs/fipy_petsc/lib/python2.7/site-packages/ipykernel/__main__.py:6: StagnatedSolverWarning: The solver stagnated. Iterations: 756. Relative error: 1.69027e-09\n",
      "/Users/guyer/anaconda/envs/fipy_petsc/lib/python2.7/site-packages/ipykernel/__main__.py:6: StagnatedSolverWarning: The solver stagnated. Iterations: 263. Relative error: 1.28639e-09\n",
      "/Users/guyer/anaconda/envs/fipy_petsc/lib/python2.7/site-packages/ipykernel/__main__.py:6: StagnatedSolverWarning: The solver stagnated. Iterations: 793. Relative error: 1.28662e-09\n",
      "/Users/guyer/anaconda/envs/fipy_petsc/lib/python2.7/site-packages/ipykernel/__main__.py:6: StagnatedSolverWarning: The solver stagnated. Iterations: 239. Relative error: 1.27041e-09\n",
      "/Users/guyer/anaconda/envs/fipy_petsc/lib/python2.7/site-packages/ipykernel/__main__.py:6: StagnatedSolverWarning: The solver stagnated. Iterations: 841. Relative error: 1.14184e-09\n",
      "/Users/guyer/anaconda/envs/fipy_petsc/lib/python2.7/site-packages/ipykernel/__main__.py:6: StagnatedSolverWarning: The solver stagnated. Iterations: 843. Relative error: 1.26852e-09\n",
      "/Users/guyer/anaconda/envs/fipy_petsc/lib/python2.7/site-packages/ipykernel/__main__.py:6: StagnatedSolverWarning: The solver stagnated. Iterations: 776. Relative error: 1.34817e-09\n",
      "/Users/guyer/anaconda/envs/fipy_petsc/lib/python2.7/site-packages/ipykernel/__main__.py:6: StagnatedSolverWarning: The solver stagnated. Iterations: 776. Relative error: 1.34877e-09\n",
      "/Users/guyer/anaconda/envs/fipy_petsc/lib/python2.7/site-packages/ipykernel/__main__.py:6: StagnatedSolverWarning: The solver stagnated. Iterations: 260. Relative error: 1.51425e-09\n",
      "/Users/guyer/anaconda/envs/fipy_petsc/lib/python2.7/site-packages/ipykernel/__main__.py:6: StagnatedSolverWarning: The solver stagnated. Iterations: 849. Relative error: 1.00254e-09\n",
      "/Users/guyer/anaconda/envs/fipy_petsc/lib/python2.7/site-packages/ipykernel/__main__.py:6: StagnatedSolverWarning: The solver stagnated. Iterations: 800. Relative error: 1.31026e-09\n",
      "/Users/guyer/anaconda/envs/fipy_petsc/lib/python2.7/site-packages/ipykernel/__main__.py:6: StagnatedSolverWarning: The solver stagnated. Iterations: 777. Relative error: 1.41341e-09\n",
      "/Users/guyer/anaconda/envs/fipy_petsc/lib/python2.7/site-packages/ipykernel/__main__.py:6: StagnatedSolverWarning: The solver stagnated. Iterations: 771. Relative error: 1.59046e-09\n",
      "/Users/guyer/anaconda/envs/fipy_petsc/lib/python2.7/site-packages/ipykernel/__main__.py:6: StagnatedSolverWarning: The solver stagnated. Iterations: 819. Relative error: 1.26325e-09\n",
      "/Users/guyer/anaconda/envs/fipy_petsc/lib/python2.7/site-packages/ipykernel/__main__.py:6: StagnatedSolverWarning: The solver stagnated. Iterations: 777. Relative error: 1.51168e-09\n",
      "/Users/guyer/anaconda/envs/fipy_petsc/lib/python2.7/site-packages/ipykernel/__main__.py:6: StagnatedSolverWarning: The solver stagnated. Iterations: 791. Relative error: 1.76021e-09\n",
      "/Users/guyer/anaconda/envs/fipy_petsc/lib/python2.7/site-packages/ipykernel/__main__.py:6: StagnatedSolverWarning: The solver stagnated. Iterations: 259. Relative error: 1.62751e-09\n",
      "/Users/guyer/anaconda/envs/fipy_petsc/lib/python2.7/site-packages/ipykernel/__main__.py:6: StagnatedSolverWarning: The solver stagnated. Iterations: 774. Relative error: 1.33927e-09\n",
      "/Users/guyer/anaconda/envs/fipy_petsc/lib/python2.7/site-packages/ipykernel/__main__.py:6: StagnatedSolverWarning: The solver stagnated. Iterations: 261. Relative error: 1.48209e-09\n",
      "/Users/guyer/anaconda/envs/fipy_petsc/lib/python2.7/site-packages/ipykernel/__main__.py:6: StagnatedSolverWarning: The solver stagnated. Iterations: 778. Relative error: 1.66253e-09\n",
      "/Users/guyer/anaconda/envs/fipy_petsc/lib/python2.7/site-packages/ipykernel/__main__.py:6: StagnatedSolverWarning: The solver stagnated. Iterations: 265. Relative error: 1.55317e-09\n",
      "/Users/guyer/anaconda/envs/fipy_petsc/lib/python2.7/site-packages/ipykernel/__main__.py:6: StagnatedSolverWarning: The solver stagnated. Iterations: 257. Relative error: 1.61635e-09\n",
      "/Users/guyer/anaconda/envs/fipy_petsc/lib/python2.7/site-packages/ipykernel/__main__.py:6: StagnatedSolverWarning: The solver stagnated. Iterations: 795. Relative error: 1.77672e-09\n",
      "/Users/guyer/anaconda/envs/fipy_petsc/lib/python2.7/site-packages/ipykernel/__main__.py:6: StagnatedSolverWarning: The solver stagnated. Iterations: 775. Relative error: 1.90194e-09\n",
      "/Users/guyer/anaconda/envs/fipy_petsc/lib/python2.7/site-packages/ipykernel/__main__.py:6: StagnatedSolverWarning: The solver stagnated. Iterations: 297. Relative error: 1.35535e-09\n",
      "/Users/guyer/anaconda/envs/fipy_petsc/lib/python2.7/site-packages/ipykernel/__main__.py:6: StagnatedSolverWarning: The solver stagnated. Iterations: 770. Relative error: 1.53713e-09\n",
      "/Users/guyer/anaconda/envs/fipy_petsc/lib/python2.7/site-packages/ipykernel/__main__.py:6: StagnatedSolverWarning: The solver stagnated. Iterations: 748. Relative error: 1.60127e-09\n",
      "/Users/guyer/anaconda/envs/fipy_petsc/lib/python2.7/site-packages/ipykernel/__main__.py:6: StagnatedSolverWarning: The solver stagnated. Iterations: 789. Relative error: 1.30155e-09\n",
      "/Users/guyer/anaconda/envs/fipy_petsc/lib/python2.7/site-packages/ipykernel/__main__.py:6: StagnatedSolverWarning: The solver stagnated. Iterations: 788. Relative error: 1.77568e-09\n",
      "/Users/guyer/anaconda/envs/fipy_petsc/lib/python2.7/site-packages/ipykernel/__main__.py:6: StagnatedSolverWarning: The solver stagnated. Iterations: 771. Relative error: 1.91835e-09\n",
      "/Users/guyer/anaconda/envs/fipy_petsc/lib/python2.7/site-packages/ipykernel/__main__.py:6: StagnatedSolverWarning: The solver stagnated. Iterations: 792. Relative error: 1.47072e-09\n",
      "/Users/guyer/anaconda/envs/fipy_petsc/lib/python2.7/site-packages/ipykernel/__main__.py:6: StagnatedSolverWarning: The solver stagnated. Iterations: 795. Relative error: 1.39044e-09\n",
      "/Users/guyer/anaconda/envs/fipy_petsc/lib/python2.7/site-packages/ipykernel/__main__.py:6: StagnatedSolverWarning: The solver stagnated. Iterations: 282. Relative error: 1.48164e-09\n",
      "/Users/guyer/anaconda/envs/fipy_petsc/lib/python2.7/site-packages/ipykernel/__main__.py:6: StagnatedSolverWarning: The solver stagnated. Iterations: 258. Relative error: 1.66931e-09\n",
      "/Users/guyer/anaconda/envs/fipy_petsc/lib/python2.7/site-packages/ipykernel/__main__.py:6: StagnatedSolverWarning: The solver stagnated. Iterations: 796. Relative error: 1.70151e-09\n",
      "/Users/guyer/anaconda/envs/fipy_petsc/lib/python2.7/site-packages/ipykernel/__main__.py:6: StagnatedSolverWarning: The solver stagnated. Iterations: 820. Relative error: 1.3922e-09\n",
      "/Users/guyer/anaconda/envs/fipy_petsc/lib/python2.7/site-packages/ipykernel/__main__.py:6: StagnatedSolverWarning: The solver stagnated. Iterations: 781. Relative error: 1.89063e-09\n",
      "/Users/guyer/anaconda/envs/fipy_petsc/lib/python2.7/site-packages/ipykernel/__main__.py:6: StagnatedSolverWarning: The solver stagnated. Iterations: 308. Relative error: 1.65588e-09\n",
      "/Users/guyer/anaconda/envs/fipy_petsc/lib/python2.7/site-packages/ipykernel/__main__.py:6: StagnatedSolverWarning: The solver stagnated. Iterations: 286. Relative error: 1.77158e-09\n",
      "/Users/guyer/anaconda/envs/fipy_petsc/lib/python2.7/site-packages/ipykernel/__main__.py:6: StagnatedSolverWarning: The solver stagnated. Iterations: 794. Relative error: 1.30959e-09\n",
      "/Users/guyer/anaconda/envs/fipy_petsc/lib/python2.7/site-packages/ipykernel/__main__.py:6: StagnatedSolverWarning: The solver stagnated. Iterations: 794. Relative error: 1.95659e-09\n",
      "/Users/guyer/anaconda/envs/fipy_petsc/lib/python2.7/site-packages/ipykernel/__main__.py:6: StagnatedSolverWarning: The solver stagnated. Iterations: 795. Relative error: 1.78805e-09\n",
      "/Users/guyer/anaconda/envs/fipy_petsc/lib/python2.7/site-packages/ipykernel/__main__.py:6: StagnatedSolverWarning: The solver stagnated. Iterations: 294. Relative error: 1.60981e-09\n",
      "/Users/guyer/anaconda/envs/fipy_petsc/lib/python2.7/site-packages/ipykernel/__main__.py:6: StagnatedSolverWarning: The solver stagnated. Iterations: 797. Relative error: 1.33199e-09\n",
      "/Users/guyer/anaconda/envs/fipy_petsc/lib/python2.7/site-packages/ipykernel/__main__.py:6: StagnatedSolverWarning: The solver stagnated. Iterations: 820. Relative error: 1.63807e-09\n",
      "/Users/guyer/anaconda/envs/fipy_petsc/lib/python2.7/site-packages/ipykernel/__main__.py:6: StagnatedSolverWarning: The solver stagnated. Iterations: 797. Relative error: 1.69239e-09\n",
      "/Users/guyer/anaconda/envs/fipy_petsc/lib/python2.7/site-packages/ipykernel/__main__.py:6: StagnatedSolverWarning: The solver stagnated. Iterations: 802. Relative error: 1.58622e-09\n",
      "/Users/guyer/anaconda/envs/fipy_petsc/lib/python2.7/site-packages/ipykernel/__main__.py:6: StagnatedSolverWarning: The solver stagnated. Iterations: 800. Relative error: 1.36105e-09\n",
      "/Users/guyer/anaconda/envs/fipy_petsc/lib/python2.7/site-packages/ipykernel/__main__.py:6: StagnatedSolverWarning: The solver stagnated. Iterations: 790. Relative error: 1.73931e-09\n",
      "/Users/guyer/anaconda/envs/fipy_petsc/lib/python2.7/site-packages/ipykernel/__main__.py:6: StagnatedSolverWarning: The solver stagnated. Iterations: 814. Relative error: 1.57363e-09\n",
      "/Users/guyer/anaconda/envs/fipy_petsc/lib/python2.7/site-packages/ipykernel/__main__.py:6: StagnatedSolverWarning: The solver stagnated. Iterations: 263. Relative error: 1.79153e-09\n",
      "/Users/guyer/anaconda/envs/fipy_petsc/lib/python2.7/site-packages/ipykernel/__main__.py:6: StagnatedSolverWarning: The solver stagnated. Iterations: 787. Relative error: 1.50522e-09\n",
      "/Users/guyer/anaconda/envs/fipy_petsc/lib/python2.7/site-packages/ipykernel/__main__.py:6: StagnatedSolverWarning: The solver stagnated. Iterations: 765. Relative error: 1.91602e-09\n",
      "/Users/guyer/anaconda/envs/fipy_petsc/lib/python2.7/site-packages/ipykernel/__main__.py:6: StagnatedSolverWarning: The solver stagnated. Iterations: 775. Relative error: 1.58153e-09\n",
      "/Users/guyer/anaconda/envs/fipy_petsc/lib/python2.7/site-packages/ipykernel/__main__.py:6: StagnatedSolverWarning: The solver stagnated. Iterations: 256. Relative error: 1.48455e-09\n",
      "/Users/guyer/anaconda/envs/fipy_petsc/lib/python2.7/site-packages/ipykernel/__main__.py:6: StagnatedSolverWarning: The solver stagnated. Iterations: 830. Relative error: 1.31491e-09\n",
      "/Users/guyer/anaconda/envs/fipy_petsc/lib/python2.7/site-packages/ipykernel/__main__.py:6: StagnatedSolverWarning: The solver stagnated. Iterations: 243. Relative error: 1.9232e-09\n",
      "/Users/guyer/anaconda/envs/fipy_petsc/lib/python2.7/site-packages/ipykernel/__main__.py:6: StagnatedSolverWarning: The solver stagnated. Iterations: 795. Relative error: 1.70259e-09\n",
      "/Users/guyer/anaconda/envs/fipy_petsc/lib/python2.7/site-packages/ipykernel/__main__.py:6: StagnatedSolverWarning: The solver stagnated. Iterations: 792. Relative error: 1.72224e-09\n",
      "/Users/guyer/anaconda/envs/fipy_petsc/lib/python2.7/site-packages/ipykernel/__main__.py:6: StagnatedSolverWarning: The solver stagnated. Iterations: 771. Relative error: 1.34418e-09\n",
      "/Users/guyer/anaconda/envs/fipy_petsc/lib/python2.7/site-packages/ipykernel/__main__.py:6: StagnatedSolverWarning: The solver stagnated. Iterations: 837. Relative error: 1.49899e-09\n",
      "/Users/guyer/anaconda/envs/fipy_petsc/lib/python2.7/site-packages/ipykernel/__main__.py:6: StagnatedSolverWarning: The solver stagnated. Iterations: 801. Relative error: 1.56367e-09\n",
      "/Users/guyer/anaconda/envs/fipy_petsc/lib/python2.7/site-packages/ipykernel/__main__.py:6: StagnatedSolverWarning: The solver stagnated. Iterations: 807. Relative error: 1.45639e-09\n",
      "/Users/guyer/anaconda/envs/fipy_petsc/lib/python2.7/site-packages/ipykernel/__main__.py:6: StagnatedSolverWarning: The solver stagnated. Iterations: 772. Relative error: 1.86188e-09\n",
      "/Users/guyer/anaconda/envs/fipy_petsc/lib/python2.7/site-packages/ipykernel/__main__.py:6: StagnatedSolverWarning: The solver stagnated. Iterations: 762. Relative error: 2.0964e-09\n",
      "/Users/guyer/anaconda/envs/fipy_petsc/lib/python2.7/site-packages/ipykernel/__main__.py:6: StagnatedSolverWarning: The solver stagnated. Iterations: 776. Relative error: 1.76672e-09\n",
      "/Users/guyer/anaconda/envs/fipy_petsc/lib/python2.7/site-packages/ipykernel/__main__.py:6: StagnatedSolverWarning: The solver stagnated. Iterations: 269. Relative error: 1.42594e-09\n",
      "/Users/guyer/anaconda/envs/fipy_petsc/lib/python2.7/site-packages/ipykernel/__main__.py:6: StagnatedSolverWarning: The solver stagnated. Iterations: 797. Relative error: 1.79113e-09\n",
      "/Users/guyer/anaconda/envs/fipy_petsc/lib/python2.7/site-packages/ipykernel/__main__.py:6: StagnatedSolverWarning: The solver stagnated. Iterations: 802. Relative error: 1.70777e-09\n",
      "/Users/guyer/anaconda/envs/fipy_petsc/lib/python2.7/site-packages/ipykernel/__main__.py:6: StagnatedSolverWarning: The solver stagnated. Iterations: 281. Relative error: 1.72588e-09\n",
      "/Users/guyer/anaconda/envs/fipy_petsc/lib/python2.7/site-packages/ipykernel/__main__.py:6: StagnatedSolverWarning: The solver stagnated. Iterations: 283. Relative error: 1.62339e-09\n",
      "/Users/guyer/anaconda/envs/fipy_petsc/lib/python2.7/site-packages/ipykernel/__main__.py:6: StagnatedSolverWarning: The solver stagnated. Iterations: 266. Relative error: 1.58883e-09\n",
      "/Users/guyer/anaconda/envs/fipy_petsc/lib/python2.7/site-packages/ipykernel/__main__.py:6: StagnatedSolverWarning: The solver stagnated. Iterations: 818. Relative error: 1.40466e-09\n",
      "/Users/guyer/anaconda/envs/fipy_petsc/lib/python2.7/site-packages/ipykernel/__main__.py:6: StagnatedSolverWarning: The solver stagnated. Iterations: 841. Relative error: 1.57841e-09\n",
      "/Users/guyer/anaconda/envs/fipy_petsc/lib/python2.7/site-packages/ipykernel/__main__.py:6: StagnatedSolverWarning: The solver stagnated. Iterations: 787. Relative error: 1.70698e-09\n",
      "/Users/guyer/anaconda/envs/fipy_petsc/lib/python2.7/site-packages/ipykernel/__main__.py:6: StagnatedSolverWarning: The solver stagnated. Iterations: 775. Relative error: 1.71042e-09\n",
      "/Users/guyer/anaconda/envs/fipy_petsc/lib/python2.7/site-packages/ipykernel/__main__.py:6: StagnatedSolverWarning: The solver stagnated. Iterations: 821. Relative error: 1.59595e-09\n",
      "/Users/guyer/anaconda/envs/fipy_petsc/lib/python2.7/site-packages/ipykernel/__main__.py:6: StagnatedSolverWarning: The solver stagnated. Iterations: 852. Relative error: 1.51524e-09\n",
      "/Users/guyer/anaconda/envs/fipy_petsc/lib/python2.7/site-packages/ipykernel/__main__.py:6: StagnatedSolverWarning: The solver stagnated. Iterations: 785. Relative error: 1.42437e-09\n",
      "/Users/guyer/anaconda/envs/fipy_petsc/lib/python2.7/site-packages/ipykernel/__main__.py:6: StagnatedSolverWarning: The solver stagnated. Iterations: 803. Relative error: 1.44768e-09\n",
      "/Users/guyer/anaconda/envs/fipy_petsc/lib/python2.7/site-packages/ipykernel/__main__.py:6: StagnatedSolverWarning: The solver stagnated. Iterations: 771. Relative error: 1.72529e-09\n",
      "/Users/guyer/anaconda/envs/fipy_petsc/lib/python2.7/site-packages/ipykernel/__main__.py:6: StagnatedSolverWarning: The solver stagnated. Iterations: 812. Relative error: 1.70679e-09\n",
      "/Users/guyer/anaconda/envs/fipy_petsc/lib/python2.7/site-packages/ipykernel/__main__.py:6: StagnatedSolverWarning: The solver stagnated. Iterations: 275. Relative error: 1.51421e-09\n",
      "/Users/guyer/anaconda/envs/fipy_petsc/lib/python2.7/site-packages/ipykernel/__main__.py:6: StagnatedSolverWarning: The solver stagnated. Iterations: 274. Relative error: 1.53727e-09\n",
      "/Users/guyer/anaconda/envs/fipy_petsc/lib/python2.7/site-packages/ipykernel/__main__.py:6: StagnatedSolverWarning: The solver stagnated. Iterations: 804. Relative error: 1.36904e-09\n",
      "/Users/guyer/anaconda/envs/fipy_petsc/lib/python2.7/site-packages/ipykernel/__main__.py:6: StagnatedSolverWarning: The solver stagnated. Iterations: 802. Relative error: 1.66111e-09\n",
      "/Users/guyer/anaconda/envs/fipy_petsc/lib/python2.7/site-packages/ipykernel/__main__.py:6: StagnatedSolverWarning: The solver stagnated. Iterations: 810. Relative error: 1.58342e-09\n",
      "/Users/guyer/anaconda/envs/fipy_petsc/lib/python2.7/site-packages/ipykernel/__main__.py:6: StagnatedSolverWarning: The solver stagnated. Iterations: 776. Relative error: 1.43296e-09\n",
      "/Users/guyer/anaconda/envs/fipy_petsc/lib/python2.7/site-packages/ipykernel/__main__.py:6: StagnatedSolverWarning: The solver stagnated. Iterations: 797. Relative error: 1.71253e-09\n",
      "/Users/guyer/anaconda/envs/fipy_petsc/lib/python2.7/site-packages/ipykernel/__main__.py:6: StagnatedSolverWarning: The solver stagnated. Iterations: 804. Relative error: 1.57585e-09\n",
      "/Users/guyer/anaconda/envs/fipy_petsc/lib/python2.7/site-packages/ipykernel/__main__.py:6: StagnatedSolverWarning: The solver stagnated. Iterations: 236. Relative error: 1.77271e-09\n",
      "/Users/guyer/anaconda/envs/fipy_petsc/lib/python2.7/site-packages/ipykernel/__main__.py:6: StagnatedSolverWarning: The solver stagnated. Iterations: 305. Relative error: 1.61006e-09\n",
      "/Users/guyer/anaconda/envs/fipy_petsc/lib/python2.7/site-packages/ipykernel/__main__.py:6: StagnatedSolverWarning: The solver stagnated. Iterations: 763. Relative error: 1.54824e-09\n",
      "/Users/guyer/anaconda/envs/fipy_petsc/lib/python2.7/site-packages/ipykernel/__main__.py:6: StagnatedSolverWarning: The solver stagnated. Iterations: 796. Relative error: 1.6724e-09\n",
      "/Users/guyer/anaconda/envs/fipy_petsc/lib/python2.7/site-packages/ipykernel/__main__.py:6: StagnatedSolverWarning: The solver stagnated. Iterations: 772. Relative error: 1.76265e-09\n",
      "/Users/guyer/anaconda/envs/fipy_petsc/lib/python2.7/site-packages/ipykernel/__main__.py:6: StagnatedSolverWarning: The solver stagnated. Iterations: 815. Relative error: 1.39506e-09\n",
      "/Users/guyer/anaconda/envs/fipy_petsc/lib/python2.7/site-packages/ipykernel/__main__.py:6: StagnatedSolverWarning: The solver stagnated. Iterations: 262. Relative error: 1.72387e-09\n",
      "/Users/guyer/anaconda/envs/fipy_petsc/lib/python2.7/site-packages/ipykernel/__main__.py:6: StagnatedSolverWarning: The solver stagnated. Iterations: 844. Relative error: 1.56368e-09\n",
      "/Users/guyer/anaconda/envs/fipy_petsc/lib/python2.7/site-packages/ipykernel/__main__.py:6: StagnatedSolverWarning: The solver stagnated. Iterations: 262. Relative error: 1.86465e-09\n",
      "/Users/guyer/anaconda/envs/fipy_petsc/lib/python2.7/site-packages/ipykernel/__main__.py:6: StagnatedSolverWarning: The solver stagnated. Iterations: 292. Relative error: 1.39847e-09\n",
      "/Users/guyer/anaconda/envs/fipy_petsc/lib/python2.7/site-packages/ipykernel/__main__.py:6: StagnatedSolverWarning: The solver stagnated. Iterations: 168. Relative error: 1.74027e-09\n",
      "/Users/guyer/anaconda/envs/fipy_petsc/lib/python2.7/site-packages/ipykernel/__main__.py:6: StagnatedSolverWarning: The solver stagnated. Iterations: 764. Relative error: 1.68064e-09\n",
      "/Users/guyer/anaconda/envs/fipy_petsc/lib/python2.7/site-packages/ipykernel/__main__.py:6: StagnatedSolverWarning: The solver stagnated. Iterations: 790. Relative error: 1.67452e-09\n",
      "/Users/guyer/anaconda/envs/fipy_petsc/lib/python2.7/site-packages/ipykernel/__main__.py:6: StagnatedSolverWarning: The solver stagnated. Iterations: 810. Relative error: 1.23313e-09\n",
      "/Users/guyer/anaconda/envs/fipy_petsc/lib/python2.7/site-packages/ipykernel/__main__.py:6: StagnatedSolverWarning: The solver stagnated. Iterations: 785. Relative error: 1.78062e-09\n",
      "/Users/guyer/anaconda/envs/fipy_petsc/lib/python2.7/site-packages/ipykernel/__main__.py:6: StagnatedSolverWarning: The solver stagnated. Iterations: 788. Relative error: 1.53156e-09\n",
      "/Users/guyer/anaconda/envs/fipy_petsc/lib/python2.7/site-packages/ipykernel/__main__.py:6: StagnatedSolverWarning: The solver stagnated. Iterations: 282. Relative error: 1.62218e-09\n",
      "/Users/guyer/anaconda/envs/fipy_petsc/lib/python2.7/site-packages/ipykernel/__main__.py:6: StagnatedSolverWarning: The solver stagnated. Iterations: 758. Relative error: 1.73557e-09\n",
      "/Users/guyer/anaconda/envs/fipy_petsc/lib/python2.7/site-packages/ipykernel/__main__.py:6: StagnatedSolverWarning: The solver stagnated. Iterations: 749. Relative error: 1.639e-09\n",
      "/Users/guyer/anaconda/envs/fipy_petsc/lib/python2.7/site-packages/ipykernel/__main__.py:6: StagnatedSolverWarning: The solver stagnated. Iterations: 777. Relative error: 1.70108e-09\n",
      "/Users/guyer/anaconda/envs/fipy_petsc/lib/python2.7/site-packages/ipykernel/__main__.py:6: StagnatedSolverWarning: The solver stagnated. Iterations: 801. Relative error: 1.43438e-09\n",
      "/Users/guyer/anaconda/envs/fipy_petsc/lib/python2.7/site-packages/ipykernel/__main__.py:6: StagnatedSolverWarning: The solver stagnated. Iterations: 775. Relative error: 1.48648e-09\n",
      "/Users/guyer/anaconda/envs/fipy_petsc/lib/python2.7/site-packages/ipykernel/__main__.py:6: StagnatedSolverWarning: The solver stagnated. Iterations: 766. Relative error: 1.7708e-09\n",
      "/Users/guyer/anaconda/envs/fipy_petsc/lib/python2.7/site-packages/ipykernel/__main__.py:6: StagnatedSolverWarning: The solver stagnated. Iterations: 764. Relative error: 1.70115e-09\n",
      "/Users/guyer/anaconda/envs/fipy_petsc/lib/python2.7/site-packages/ipykernel/__main__.py:6: StagnatedSolverWarning: The solver stagnated. Iterations: 787. Relative error: 1.50512e-09\n",
      "/Users/guyer/anaconda/envs/fipy_petsc/lib/python2.7/site-packages/ipykernel/__main__.py:6: StagnatedSolverWarning: The solver stagnated. Iterations: 781. Relative error: 1.99936e-09\n",
      "/Users/guyer/anaconda/envs/fipy_petsc/lib/python2.7/site-packages/ipykernel/__main__.py:6: StagnatedSolverWarning: The solver stagnated. Iterations: 265. Relative error: 1.41325e-09\n",
      "/Users/guyer/anaconda/envs/fipy_petsc/lib/python2.7/site-packages/ipykernel/__main__.py:6: StagnatedSolverWarning: The solver stagnated. Iterations: 767. Relative error: 1.65311e-09\n",
      "/Users/guyer/anaconda/envs/fipy_petsc/lib/python2.7/site-packages/ipykernel/__main__.py:6: StagnatedSolverWarning: The solver stagnated. Iterations: 786. Relative error: 1.57023e-09\n",
      "/Users/guyer/anaconda/envs/fipy_petsc/lib/python2.7/site-packages/ipykernel/__main__.py:6: StagnatedSolverWarning: The solver stagnated. Iterations: 795. Relative error: 1.57375e-09\n",
      "/Users/guyer/anaconda/envs/fipy_petsc/lib/python2.7/site-packages/ipykernel/__main__.py:6: StagnatedSolverWarning: The solver stagnated. Iterations: 230. Relative error: 2.06646e-09\n",
      "/Users/guyer/anaconda/envs/fipy_petsc/lib/python2.7/site-packages/ipykernel/__main__.py:6: StagnatedSolverWarning: The solver stagnated. Iterations: 749. Relative error: 1.41677e-09\n",
      "/Users/guyer/anaconda/envs/fipy_petsc/lib/python2.7/site-packages/ipykernel/__main__.py:6: StagnatedSolverWarning: The solver stagnated. Iterations: 790. Relative error: 1.57921e-09\n",
      "/Users/guyer/anaconda/envs/fipy_petsc/lib/python2.7/site-packages/ipykernel/__main__.py:6: StagnatedSolverWarning: The solver stagnated. Iterations: 773. Relative error: 1.63763e-09\n",
      "/Users/guyer/anaconda/envs/fipy_petsc/lib/python2.7/site-packages/ipykernel/__main__.py:6: StagnatedSolverWarning: The solver stagnated. Iterations: 767. Relative error: 1.50888e-09\n",
      "/Users/guyer/anaconda/envs/fipy_petsc/lib/python2.7/site-packages/ipykernel/__main__.py:6: StagnatedSolverWarning: The solver stagnated. Iterations: 817. Relative error: 1.71337e-09\n",
      "/Users/guyer/anaconda/envs/fipy_petsc/lib/python2.7/site-packages/ipykernel/__main__.py:6: StagnatedSolverWarning: The solver stagnated. Iterations: 782. Relative error: 1.61824e-09\n",
      "/Users/guyer/anaconda/envs/fipy_petsc/lib/python2.7/site-packages/ipykernel/__main__.py:6: StagnatedSolverWarning: The solver stagnated. Iterations: 752. Relative error: 1.88181e-09\n",
      "/Users/guyer/anaconda/envs/fipy_petsc/lib/python2.7/site-packages/ipykernel/__main__.py:6: StagnatedSolverWarning: The solver stagnated. Iterations: 776. Relative error: 1.62076e-09\n",
      "/Users/guyer/anaconda/envs/fipy_petsc/lib/python2.7/site-packages/ipykernel/__main__.py:6: StagnatedSolverWarning: The solver stagnated. Iterations: 795. Relative error: 1.64721e-09\n",
      "/Users/guyer/anaconda/envs/fipy_petsc/lib/python2.7/site-packages/ipykernel/__main__.py:6: StagnatedSolverWarning: The solver stagnated. Iterations: 292. Relative error: 1.29237e-09\n",
      "/Users/guyer/anaconda/envs/fipy_petsc/lib/python2.7/site-packages/ipykernel/__main__.py:6: StagnatedSolverWarning: The solver stagnated. Iterations: 816. Relative error: 1.31932e-09\n",
      "/Users/guyer/anaconda/envs/fipy_petsc/lib/python2.7/site-packages/ipykernel/__main__.py:6: StagnatedSolverWarning: The solver stagnated. Iterations: 795. Relative error: 1.61589e-09\n",
      "/Users/guyer/anaconda/envs/fipy_petsc/lib/python2.7/site-packages/ipykernel/__main__.py:6: StagnatedSolverWarning: The solver stagnated. Iterations: 781. Relative error: 1.72894e-09\n",
      "/Users/guyer/anaconda/envs/fipy_petsc/lib/python2.7/site-packages/ipykernel/__main__.py:6: StagnatedSolverWarning: The solver stagnated. Iterations: 795. Relative error: 1.64151e-09\n",
      "/Users/guyer/anaconda/envs/fipy_petsc/lib/python2.7/site-packages/ipykernel/__main__.py:6: StagnatedSolverWarning: The solver stagnated. Iterations: 826. Relative error: 1.57566e-09\n",
      "/Users/guyer/anaconda/envs/fipy_petsc/lib/python2.7/site-packages/ipykernel/__main__.py:6: StagnatedSolverWarning: The solver stagnated. Iterations: 787. Relative error: 1.89165e-09\n",
      "/Users/guyer/anaconda/envs/fipy_petsc/lib/python2.7/site-packages/ipykernel/__main__.py:6: StagnatedSolverWarning: The solver stagnated. Iterations: 262. Relative error: 1.68063e-09\n",
      "/Users/guyer/anaconda/envs/fipy_petsc/lib/python2.7/site-packages/ipykernel/__main__.py:6: StagnatedSolverWarning: The solver stagnated. Iterations: 744. Relative error: 2.46095e-09\n",
      "/Users/guyer/anaconda/envs/fipy_petsc/lib/python2.7/site-packages/ipykernel/__main__.py:6: StagnatedSolverWarning: The solver stagnated. Iterations: 761. Relative error: 2.1454e-09\n",
      "/Users/guyer/anaconda/envs/fipy_petsc/lib/python2.7/site-packages/ipykernel/__main__.py:6: StagnatedSolverWarning: The solver stagnated. Iterations: 787. Relative error: 1.30531e-09\n",
      "/Users/guyer/anaconda/envs/fipy_petsc/lib/python2.7/site-packages/ipykernel/__main__.py:6: StagnatedSolverWarning: The solver stagnated. Iterations: 282. Relative error: 1.77372e-09\n",
      "/Users/guyer/anaconda/envs/fipy_petsc/lib/python2.7/site-packages/ipykernel/__main__.py:6: StagnatedSolverWarning: The solver stagnated. Iterations: 759. Relative error: 1.59747e-09\n",
      "/Users/guyer/anaconda/envs/fipy_petsc/lib/python2.7/site-packages/ipykernel/__main__.py:6: StagnatedSolverWarning: The solver stagnated. Iterations: 783. Relative error: 1.5825e-09\n",
      "/Users/guyer/anaconda/envs/fipy_petsc/lib/python2.7/site-packages/ipykernel/__main__.py:6: StagnatedSolverWarning: The solver stagnated. Iterations: 842. Relative error: 1.17888e-09\n",
      "/Users/guyer/anaconda/envs/fipy_petsc/lib/python2.7/site-packages/ipykernel/__main__.py:6: StagnatedSolverWarning: The solver stagnated. Iterations: 798. Relative error: 1.67158e-09\n",
      "/Users/guyer/anaconda/envs/fipy_petsc/lib/python2.7/site-packages/ipykernel/__main__.py:6: StagnatedSolverWarning: The solver stagnated. Iterations: 786. Relative error: 1.95271e-09\n",
      "/Users/guyer/anaconda/envs/fipy_petsc/lib/python2.7/site-packages/ipykernel/__main__.py:6: StagnatedSolverWarning: The solver stagnated. Iterations: 750. Relative error: 1.93195e-09\n",
      "/Users/guyer/anaconda/envs/fipy_petsc/lib/python2.7/site-packages/ipykernel/__main__.py:6: StagnatedSolverWarning: The solver stagnated. Iterations: 826. Relative error: 1.32875e-09\n",
      "/Users/guyer/anaconda/envs/fipy_petsc/lib/python2.7/site-packages/ipykernel/__main__.py:6: StagnatedSolverWarning: The solver stagnated. Iterations: 767. Relative error: 2.01698e-09\n",
      "/Users/guyer/anaconda/envs/fipy_petsc/lib/python2.7/site-packages/ipykernel/__main__.py:6: StagnatedSolverWarning: The solver stagnated. Iterations: 812. Relative error: 1.6827e-09\n",
      "/Users/guyer/anaconda/envs/fipy_petsc/lib/python2.7/site-packages/ipykernel/__main__.py:6: StagnatedSolverWarning: The solver stagnated. Iterations: 773. Relative error: 1.80808e-09\n",
      "/Users/guyer/anaconda/envs/fipy_petsc/lib/python2.7/site-packages/ipykernel/__main__.py:6: StagnatedSolverWarning: The solver stagnated. Iterations: 771. Relative error: 1.60101e-09\n",
      "/Users/guyer/anaconda/envs/fipy_petsc/lib/python2.7/site-packages/ipykernel/__main__.py:6: StagnatedSolverWarning: The solver stagnated. Iterations: 754. Relative error: 1.69024e-09\n",
      "/Users/guyer/anaconda/envs/fipy_petsc/lib/python2.7/site-packages/ipykernel/__main__.py:6: StagnatedSolverWarning: The solver stagnated. Iterations: 799. Relative error: 1.32113e-09\n",
      "/Users/guyer/anaconda/envs/fipy_petsc/lib/python2.7/site-packages/ipykernel/__main__.py:6: StagnatedSolverWarning: The solver stagnated. Iterations: 772. Relative error: 1.86059e-09\n",
      "/Users/guyer/anaconda/envs/fipy_petsc/lib/python2.7/site-packages/ipykernel/__main__.py:6: StagnatedSolverWarning: The solver stagnated. Iterations: 760. Relative error: 1.89499e-09\n",
      "/Users/guyer/anaconda/envs/fipy_petsc/lib/python2.7/site-packages/ipykernel/__main__.py:6: StagnatedSolverWarning: The solver stagnated. Iterations: 787. Relative error: 1.87083e-09\n",
      "/Users/guyer/anaconda/envs/fipy_petsc/lib/python2.7/site-packages/ipykernel/__main__.py:6: StagnatedSolverWarning: The solver stagnated. Iterations: 868. Relative error: 1.29731e-09\n",
      "/Users/guyer/anaconda/envs/fipy_petsc/lib/python2.7/site-packages/ipykernel/__main__.py:6: StagnatedSolverWarning: The solver stagnated. Iterations: 757. Relative error: 2.02268e-09\n",
      "/Users/guyer/anaconda/envs/fipy_petsc/lib/python2.7/site-packages/ipykernel/__main__.py:6: StagnatedSolverWarning: The solver stagnated. Iterations: 259. Relative error: 1.86532e-09\n",
      "/Users/guyer/anaconda/envs/fipy_petsc/lib/python2.7/site-packages/ipykernel/__main__.py:6: StagnatedSolverWarning: The solver stagnated. Iterations: 765. Relative error: 1.96356e-09\n",
      "/Users/guyer/anaconda/envs/fipy_petsc/lib/python2.7/site-packages/ipykernel/__main__.py:6: StagnatedSolverWarning: The solver stagnated. Iterations: 260. Relative error: 1.85893e-09\n",
      "/Users/guyer/anaconda/envs/fipy_petsc/lib/python2.7/site-packages/ipykernel/__main__.py:6: StagnatedSolverWarning: The solver stagnated. Iterations: 262. Relative error: 1.53741e-09\n",
      "/Users/guyer/anaconda/envs/fipy_petsc/lib/python2.7/site-packages/ipykernel/__main__.py:6: StagnatedSolverWarning: The solver stagnated. Iterations: 759. Relative error: 1.93061e-09\n",
      "/Users/guyer/anaconda/envs/fipy_petsc/lib/python2.7/site-packages/ipykernel/__main__.py:6: StagnatedSolverWarning: The solver stagnated. Iterations: 759. Relative error: 1.88162e-09\n",
      "/Users/guyer/anaconda/envs/fipy_petsc/lib/python2.7/site-packages/ipykernel/__main__.py:6: StagnatedSolverWarning: The solver stagnated. Iterations: 777. Relative error: 1.68435e-09\n",
      "/Users/guyer/anaconda/envs/fipy_petsc/lib/python2.7/site-packages/ipykernel/__main__.py:6: StagnatedSolverWarning: The solver stagnated. Iterations: 804. Relative error: 1.79859e-09\n",
      "/Users/guyer/anaconda/envs/fipy_petsc/lib/python2.7/site-packages/ipykernel/__main__.py:6: StagnatedSolverWarning: The solver stagnated. Iterations: 792. Relative error: 1.50355e-09\n",
      "/Users/guyer/anaconda/envs/fipy_petsc/lib/python2.7/site-packages/ipykernel/__main__.py:6: StagnatedSolverWarning: The solver stagnated. Iterations: 769. Relative error: 1.58835e-09\n",
      "/Users/guyer/anaconda/envs/fipy_petsc/lib/python2.7/site-packages/ipykernel/__main__.py:6: StagnatedSolverWarning: The solver stagnated. Iterations: 785. Relative error: 1.86257e-09\n",
      "/Users/guyer/anaconda/envs/fipy_petsc/lib/python2.7/site-packages/ipykernel/__main__.py:6: StagnatedSolverWarning: The solver stagnated. Iterations: 780. Relative error: 1.89132e-09\n",
      "/Users/guyer/anaconda/envs/fipy_petsc/lib/python2.7/site-packages/ipykernel/__main__.py:6: StagnatedSolverWarning: The solver stagnated. Iterations: 772. Relative error: 1.45068e-09\n",
      "/Users/guyer/anaconda/envs/fipy_petsc/lib/python2.7/site-packages/ipykernel/__main__.py:6: StagnatedSolverWarning: The solver stagnated. Iterations: 772. Relative error: 1.90218e-09\n",
      "/Users/guyer/anaconda/envs/fipy_petsc/lib/python2.7/site-packages/ipykernel/__main__.py:6: StagnatedSolverWarning: The solver stagnated. Iterations: 796. Relative error: 1.50767e-09\n",
      "/Users/guyer/anaconda/envs/fipy_petsc/lib/python2.7/site-packages/ipykernel/__main__.py:6: StagnatedSolverWarning: The solver stagnated. Iterations: 829. Relative error: 1.65011e-09\n",
      "/Users/guyer/anaconda/envs/fipy_petsc/lib/python2.7/site-packages/ipykernel/__main__.py:6: StagnatedSolverWarning: The solver stagnated. Iterations: 228. Relative error: 2.07845e-09\n",
      "/Users/guyer/anaconda/envs/fipy_petsc/lib/python2.7/site-packages/ipykernel/__main__.py:6: StagnatedSolverWarning: The solver stagnated. Iterations: 759. Relative error: 1.61732e-09\n",
      "/Users/guyer/anaconda/envs/fipy_petsc/lib/python2.7/site-packages/ipykernel/__main__.py:6: StagnatedSolverWarning: The solver stagnated. Iterations: 805. Relative error: 1.54164e-09\n",
      "/Users/guyer/anaconda/envs/fipy_petsc/lib/python2.7/site-packages/ipykernel/__main__.py:6: StagnatedSolverWarning: The solver stagnated. Iterations: 778. Relative error: 1.69966e-09\n",
      "/Users/guyer/anaconda/envs/fipy_petsc/lib/python2.7/site-packages/ipykernel/__main__.py:6: StagnatedSolverWarning: The solver stagnated. Iterations: 770. Relative error: 1.862e-09\n",
      "/Users/guyer/anaconda/envs/fipy_petsc/lib/python2.7/site-packages/ipykernel/__main__.py:6: StagnatedSolverWarning: The solver stagnated. Iterations: 780. Relative error: 1.84015e-09\n",
      "/Users/guyer/anaconda/envs/fipy_petsc/lib/python2.7/site-packages/ipykernel/__main__.py:6: StagnatedSolverWarning: The solver stagnated. Iterations: 802. Relative error: 1.59151e-09\n",
      "/Users/guyer/anaconda/envs/fipy_petsc/lib/python2.7/site-packages/ipykernel/__main__.py:6: StagnatedSolverWarning: The solver stagnated. Iterations: 763. Relative error: 1.90003e-09\n",
      "/Users/guyer/anaconda/envs/fipy_petsc/lib/python2.7/site-packages/ipykernel/__main__.py:6: StagnatedSolverWarning: The solver stagnated. Iterations: 769. Relative error: 1.77721e-09\n",
      "/Users/guyer/anaconda/envs/fipy_petsc/lib/python2.7/site-packages/ipykernel/__main__.py:6: StagnatedSolverWarning: The solver stagnated. Iterations: 775. Relative error: 1.58734e-09\n",
      "/Users/guyer/anaconda/envs/fipy_petsc/lib/python2.7/site-packages/ipykernel/__main__.py:6: StagnatedSolverWarning: The solver stagnated. Iterations: 791. Relative error: 1.63912e-09\n",
      "/Users/guyer/anaconda/envs/fipy_petsc/lib/python2.7/site-packages/ipykernel/__main__.py:6: StagnatedSolverWarning: The solver stagnated. Iterations: 255. Relative error: 1.82663e-09\n",
      "/Users/guyer/anaconda/envs/fipy_petsc/lib/python2.7/site-packages/ipykernel/__main__.py:6: StagnatedSolverWarning: The solver stagnated. Iterations: 274. Relative error: 1.68962e-09\n",
      "/Users/guyer/anaconda/envs/fipy_petsc/lib/python2.7/site-packages/ipykernel/__main__.py:6: StagnatedSolverWarning: The solver stagnated. Iterations: 771. Relative error: 1.8532e-09\n",
      "/Users/guyer/anaconda/envs/fipy_petsc/lib/python2.7/site-packages/ipykernel/__main__.py:6: StagnatedSolverWarning: The solver stagnated. Iterations: 819. Relative error: 1.21902e-09\n",
      "/Users/guyer/anaconda/envs/fipy_petsc/lib/python2.7/site-packages/ipykernel/__main__.py:6: StagnatedSolverWarning: The solver stagnated. Iterations: 800. Relative error: 1.54339e-09\n",
      "/Users/guyer/anaconda/envs/fipy_petsc/lib/python2.7/site-packages/ipykernel/__main__.py:6: StagnatedSolverWarning: The solver stagnated. Iterations: 751. Relative error: 2.04652e-09\n",
      "/Users/guyer/anaconda/envs/fipy_petsc/lib/python2.7/site-packages/ipykernel/__main__.py:6: StagnatedSolverWarning: The solver stagnated. Iterations: 777. Relative error: 1.74761e-09\n",
      "/Users/guyer/anaconda/envs/fipy_petsc/lib/python2.7/site-packages/ipykernel/__main__.py:6: StagnatedSolverWarning: The solver stagnated. Iterations: 274. Relative error: 1.39104e-09\n",
      "/Users/guyer/anaconda/envs/fipy_petsc/lib/python2.7/site-packages/ipykernel/__main__.py:6: StagnatedSolverWarning: The solver stagnated. Iterations: 757. Relative error: 1.91779e-09\n",
      "/Users/guyer/anaconda/envs/fipy_petsc/lib/python2.7/site-packages/ipykernel/__main__.py:6: StagnatedSolverWarning: The solver stagnated. Iterations: 791. Relative error: 1.54054e-09\n",
      "/Users/guyer/anaconda/envs/fipy_petsc/lib/python2.7/site-packages/ipykernel/__main__.py:6: StagnatedSolverWarning: The solver stagnated. Iterations: 760. Relative error: 1.77943e-09\n",
      "/Users/guyer/anaconda/envs/fipy_petsc/lib/python2.7/site-packages/ipykernel/__main__.py:6: StagnatedSolverWarning: The solver stagnated. Iterations: 792. Relative error: 1.51065e-09\n",
      "/Users/guyer/anaconda/envs/fipy_petsc/lib/python2.7/site-packages/ipykernel/__main__.py:6: StagnatedSolverWarning: The solver stagnated. Iterations: 811. Relative error: 1.49167e-09\n",
      "/Users/guyer/anaconda/envs/fipy_petsc/lib/python2.7/site-packages/ipykernel/__main__.py:6: StagnatedSolverWarning: The solver stagnated. Iterations: 292. Relative error: 1.3678e-09\n",
      "/Users/guyer/anaconda/envs/fipy_petsc/lib/python2.7/site-packages/ipykernel/__main__.py:6: StagnatedSolverWarning: The solver stagnated. Iterations: 739. Relative error: 1.68723e-09\n",
      "/Users/guyer/anaconda/envs/fipy_petsc/lib/python2.7/site-packages/ipykernel/__main__.py:6: StagnatedSolverWarning: The solver stagnated. Iterations: 231. Relative error: 1.57616e-09\n",
      "/Users/guyer/anaconda/envs/fipy_petsc/lib/python2.7/site-packages/ipykernel/__main__.py:6: StagnatedSolverWarning: The solver stagnated. Iterations: 800. Relative error: 1.62617e-09\n",
      "/Users/guyer/anaconda/envs/fipy_petsc/lib/python2.7/site-packages/ipykernel/__main__.py:6: StagnatedSolverWarning: The solver stagnated. Iterations: 789. Relative error: 1.35294e-09\n"
     ]
    },
    {
     "ename": "KeyboardInterrupt",
     "evalue": "",
     "output_type": "error",
     "traceback": [
      "\u001b[0;31m---------------------------------------------------------------------------\u001b[0m",
      "\u001b[0;31mKeyboardInterrupt\u001b[0m                         Traceback (most recent call last)",
      "\u001b[0;32m<ipython-input-41-663ec3c51474>\u001b[0m in \u001b[0;36m<module>\u001b[0;34m()\u001b[0m\n\u001b[1;32m      7\u001b[0m     \u001b[0mstep\u001b[0m \u001b[0;34m+=\u001b[0m \u001b[0;36m1\u001b[0m\u001b[0;34m\u001b[0m\u001b[0m\n\u001b[1;32m      8\u001b[0m     \u001b[0;32mif\u001b[0m \u001b[0melapsed\u001b[0m \u001b[0;34m-\u001b[0m \u001b[0msaved\u001b[0m \u001b[0;34m>\u001b[0m \u001b[0;36m10\u001b[0m\u001b[0;34m:\u001b[0m\u001b[0;34m\u001b[0m\u001b[0m\n\u001b[0;32m----> 9\u001b[0;31m         \u001b[0mfp\u001b[0m\u001b[0;34m.\u001b[0m\u001b[0mTSVViewer\u001b[0m\u001b[0;34m(\u001b[0m\u001b[0mvars\u001b[0m\u001b[0;34m=\u001b[0m\u001b[0mC\u001b[0m\u001b[0;34m)\u001b[0m\u001b[0;34m.\u001b[0m\u001b[0mplot\u001b[0m\u001b[0;34m(\u001b[0m\u001b[0mfilename\u001b[0m\u001b[0;34m=\u001b[0m\u001b[0;34m\"{step}.gz\"\u001b[0m\u001b[0;34m.\u001b[0m\u001b[0mformat\u001b[0m\u001b[0;34m(\u001b[0m\u001b[0mstep\u001b[0m\u001b[0;34m=\u001b[0m\u001b[0mstep\u001b[0m\u001b[0;34m)\u001b[0m\u001b[0;34m)\u001b[0m\u001b[0;34m\u001b[0m\u001b[0m\n\u001b[0m\u001b[1;32m     10\u001b[0m         \u001b[0;31m# viewer.plot()\u001b[0m\u001b[0;34m\u001b[0m\u001b[0;34m\u001b[0m\u001b[0m\n\u001b[1;32m     11\u001b[0m         \u001b[0msaved\u001b[0m \u001b[0;34m=\u001b[0m \u001b[0melapsed\u001b[0m\u001b[0;34m\u001b[0m\u001b[0m\n",
      "\u001b[0;32m/Users/guyer/Documents/research/FiPy/fipy/fipy/viewers/tsvViewer.pyc\u001b[0m in \u001b[0;36mplot\u001b[0;34m(self, filename)\u001b[0m\n\u001b[1;32m    204\u001b[0m                     \u001b[0mvalues\u001b[0m \u001b[0;34m=\u001b[0m \u001b[0mnumerix\u001b[0m\u001b[0;34m.\u001b[0m\u001b[0mconcatenate\u001b[0m\u001b[0;34m(\u001b[0m\u001b[0;34m(\u001b[0m\u001b[0mvalues\u001b[0m\u001b[0;34m,\u001b[0m \u001b[0;34m(\u001b[0m\u001b[0mnumerix\u001b[0m\u001b[0;34m.\u001b[0m\u001b[0marray\u001b[0m\u001b[0;34m(\u001b[0m\u001b[0mvar\u001b[0m\u001b[0;34m.\u001b[0m\u001b[0mglobalValue\u001b[0m\u001b[0;34m)\u001b[0m\u001b[0;34m,\u001b[0m\u001b[0;34m)\u001b[0m\u001b[0;34m)\u001b[0m\u001b[0;34m)\u001b[0m\u001b[0;34m\u001b[0m\u001b[0m\n\u001b[1;32m    205\u001b[0m \u001b[0;34m\u001b[0m\u001b[0m\n\u001b[0;32m--> 206\u001b[0;31m             \u001b[0mself\u001b[0m\u001b[0;34m.\u001b[0m\u001b[0m_plot\u001b[0m\u001b[0;34m(\u001b[0m\u001b[0mvalues\u001b[0m\u001b[0;34m,\u001b[0m \u001b[0mf\u001b[0m\u001b[0;34m,\u001b[0m \u001b[0mdim\u001b[0m\u001b[0;34m)\u001b[0m\u001b[0;34m\u001b[0m\u001b[0m\n\u001b[0m\u001b[1;32m    207\u001b[0m \u001b[0;34m\u001b[0m\u001b[0m\n\u001b[1;32m    208\u001b[0m         \u001b[0;32mif\u001b[0m \u001b[0mlen\u001b[0m\u001b[0;34m(\u001b[0m\u001b[0mfaceVars\u001b[0m\u001b[0;34m)\u001b[0m \u001b[0;34m>\u001b[0m \u001b[0;36m0\u001b[0m\u001b[0;34m:\u001b[0m\u001b[0;34m\u001b[0m\u001b[0m\n",
      "\u001b[0;32m/Users/guyer/Documents/research/FiPy/fipy/fipy/viewers/tsvViewer.pyc\u001b[0m in \u001b[0;36m_plot\u001b[0;34m(self, values, f, dim)\u001b[0m\n\u001b[1;32m    125\u001b[0m \u001b[0;34m\u001b[0m\u001b[0m\n\u001b[1;32m    126\u001b[0m             \u001b[0mline\u001b[0m \u001b[0;34m=\u001b[0m \u001b[0;34m[\u001b[0m\u001b[0;34m\"%.15g\"\u001b[0m \u001b[0;34m%\u001b[0m \u001b[0mvalue\u001b[0m \u001b[0;32mfor\u001b[0m \u001b[0mvalue\u001b[0m \u001b[0;32min\u001b[0m \u001b[0mlineValues\u001b[0m\u001b[0;34m]\u001b[0m\u001b[0;34m\u001b[0m\u001b[0m\n\u001b[0;32m--> 127\u001b[0;31m             \u001b[0mf\u001b[0m\u001b[0;34m.\u001b[0m\u001b[0mwrite\u001b[0m\u001b[0;34m(\u001b[0m\u001b[0;34m\"\\t\"\u001b[0m\u001b[0;34m.\u001b[0m\u001b[0mjoin\u001b[0m\u001b[0;34m(\u001b[0m\u001b[0mline\u001b[0m\u001b[0;34m)\u001b[0m\u001b[0;34m)\u001b[0m\u001b[0;34m\u001b[0m\u001b[0m\n\u001b[0m\u001b[1;32m    128\u001b[0m             \u001b[0mf\u001b[0m\u001b[0;34m.\u001b[0m\u001b[0mwrite\u001b[0m\u001b[0;34m(\u001b[0m\u001b[0;34m\"\\n\"\u001b[0m\u001b[0;34m)\u001b[0m\u001b[0;34m\u001b[0m\u001b[0m\n\u001b[1;32m    129\u001b[0m \u001b[0;34m\u001b[0m\u001b[0m\n",
      "\u001b[0;32m/Users/guyer/anaconda/envs/fipy_petsc/lib/python2.7/gzip.pyc\u001b[0m in \u001b[0;36mwrite\u001b[0;34m(self, data)\u001b[0m\n\u001b[1;32m    239\u001b[0m \u001b[0;34m\u001b[0m\u001b[0m\n\u001b[1;32m    240\u001b[0m         \u001b[0;32mif\u001b[0m \u001b[0mlen\u001b[0m\u001b[0;34m(\u001b[0m\u001b[0mdata\u001b[0m\u001b[0;34m)\u001b[0m \u001b[0;34m>\u001b[0m \u001b[0;36m0\u001b[0m\u001b[0;34m:\u001b[0m\u001b[0;34m\u001b[0m\u001b[0m\n\u001b[0;32m--> 241\u001b[0;31m             \u001b[0mself\u001b[0m\u001b[0;34m.\u001b[0m\u001b[0mfileobj\u001b[0m\u001b[0;34m.\u001b[0m\u001b[0mwrite\u001b[0m\u001b[0;34m(\u001b[0m\u001b[0mself\u001b[0m\u001b[0;34m.\u001b[0m\u001b[0mcompress\u001b[0m\u001b[0;34m.\u001b[0m\u001b[0mcompress\u001b[0m\u001b[0;34m(\u001b[0m\u001b[0mdata\u001b[0m\u001b[0;34m)\u001b[0m\u001b[0;34m)\u001b[0m\u001b[0;34m\u001b[0m\u001b[0m\n\u001b[0m\u001b[1;32m    242\u001b[0m             \u001b[0mself\u001b[0m\u001b[0;34m.\u001b[0m\u001b[0msize\u001b[0m \u001b[0;34m+=\u001b[0m \u001b[0mlen\u001b[0m\u001b[0;34m(\u001b[0m\u001b[0mdata\u001b[0m\u001b[0;34m)\u001b[0m\u001b[0;34m\u001b[0m\u001b[0m\n\u001b[1;32m    243\u001b[0m             \u001b[0mself\u001b[0m\u001b[0;34m.\u001b[0m\u001b[0mcrc\u001b[0m \u001b[0;34m=\u001b[0m \u001b[0mzlib\u001b[0m\u001b[0;34m.\u001b[0m\u001b[0mcrc32\u001b[0m\u001b[0;34m(\u001b[0m\u001b[0mdata\u001b[0m\u001b[0;34m,\u001b[0m \u001b[0mself\u001b[0m\u001b[0;34m.\u001b[0m\u001b[0mcrc\u001b[0m\u001b[0;34m)\u001b[0m \u001b[0;34m&\u001b[0m \u001b[0;36m0xffffffffL\u001b[0m\u001b[0;34m\u001b[0m\u001b[0m\n",
      "\u001b[0;31mKeyboardInterrupt\u001b[0m: "
     ]
    }
   ],
   "source": [
    "while elapsed < duration:\n",
    "    C.updateOld()\n",
    "    dt = min(10, nmx.exp(dexp))\n",
    "    elapsed += dt\n",
    "    dexp += 0.01\n",
    "    eq.solve(C, dt=dt)\n",
    "    step += 1\n",
    "    if elapsed - saved > 10:\n",
    "        fp.TSVViewer(vars=C).plot(filename=\"{step}.gz\".format(step=step))\n",
    "        # viewer.plot()\n",
    "        saved = elapsed\n",
    "    with open(\"stats.txt\", 'a') as stats:\n",
    "        stats.write(\"\\t\".join([str(it) for it in [step, elapsed, dt, min(C), max(C), \n",
    "                                                  f.cellVolumeAverage * mesh.cellVolumes.sum()]]) + \"\\n\")"
   ]
  },
  {
   "cell_type": "code",
   "execution_count": null,
   "metadata": {
    "collapsed": true
   },
   "outputs": [],
   "source": []
  }
 ],
 "metadata": {
  "kernelspec": {
   "display_name": "Python 2",
   "language": "python",
   "name": "python2"
  },
  "language_info": {
   "codemirror_mode": {
    "name": "ipython",
    "version": 2
   },
   "file_extension": ".py",
   "mimetype": "text/x-python",
   "name": "python",
   "nbconvert_exporter": "python",
   "pygments_lexer": "ipython2",
   "version": "2.7.10"
  }
 },
 "nbformat": 4,
 "nbformat_minor": 0
}
