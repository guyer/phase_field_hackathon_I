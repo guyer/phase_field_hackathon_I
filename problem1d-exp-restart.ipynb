{
 "cells": [
  {
   "cell_type": "code",
   "execution_count": 1,
   "metadata": {
    "collapsed": true
   },
   "outputs": [],
   "source": [
    "%matplotlib inline"
   ]
  },
  {
   "cell_type": "code",
   "execution_count": 2,
   "metadata": {
    "collapsed": true
   },
   "outputs": [],
   "source": [
    "import fipy as fp"
   ]
  },
  {
   "cell_type": "code",
   "execution_count": 3,
   "metadata": {
    "collapsed": true
   },
   "outputs": [],
   "source": [
    "from fipy import numerix as nmx"
   ]
  },
  {
   "cell_type": "code",
   "execution_count": 4,
   "metadata": {
    "collapsed": true
   },
   "outputs": [],
   "source": [
    "import os"
   ]
  },
  {
   "cell_type": "code",
   "execution_count": 5,
   "metadata": {
    "collapsed": true
   },
   "outputs": [],
   "source": [
    "direc = \"1d-exp-restart\""
   ]
  },
  {
   "cell_type": "code",
   "execution_count": 6,
   "metadata": {
    "collapsed": false
   },
   "outputs": [
    {
     "ename": "OSError",
     "evalue": "[Errno 17] File exists: '1d-exp-restart'",
     "output_type": "error",
     "traceback": [
      "\u001b[0;31m---------------------------------------------------------------------------\u001b[0m",
      "\u001b[0;31mOSError\u001b[0m                                   Traceback (most recent call last)",
      "\u001b[0;32m<ipython-input-6-995e08ef0874>\u001b[0m in \u001b[0;36m<module>\u001b[0;34m()\u001b[0m\n\u001b[0;32m----> 1\u001b[0;31m \u001b[0mos\u001b[0m\u001b[0;34m.\u001b[0m\u001b[0mmkdir\u001b[0m\u001b[0;34m(\u001b[0m\u001b[0mdirec\u001b[0m\u001b[0;34m)\u001b[0m\u001b[0;34m\u001b[0m\u001b[0m\n\u001b[0m",
      "\u001b[0;31mOSError\u001b[0m: [Errno 17] File exists: '1d-exp-restart'"
     ]
    }
   ],
   "source": [
    "os.mkdir(direc)"
   ]
  },
  {
   "cell_type": "code",
   "execution_count": 7,
   "metadata": {
    "collapsed": true
   },
   "outputs": [],
   "source": [
    "os.chdir(os.path.join(os.getcwd(), direc))"
   ]
  },
  {
   "cell_type": "code",
   "execution_count": 8,
   "metadata": {
    "collapsed": false
   },
   "outputs": [],
   "source": [
    "mesh = fp.dump.read(\"mesh.dmp\")"
   ]
  },
  {
   "cell_type": "code",
   "execution_count": 9,
   "metadata": {
    "collapsed": true
   },
   "outputs": [],
   "source": [
    "C = fp.CellVariable(mesh=mesh, name=\"C\", hasOld=True)"
   ]
  },
  {
   "cell_type": "code",
   "execution_count": 10,
   "metadata": {
    "collapsed": false
   },
   "outputs": [],
   "source": [
    "Calpha = 0.05\n",
    "Cbeta = 0.95\n",
    "Cm = (Calpha + Cbeta) / 2.\n",
    "A = 2.0\n",
    "B = A / (Calpha - Cm)**2\n",
    "D = Dalpha = Dbeta = 2 / (Cbeta - Calpha)\n",
    "kappa = 2.0"
   ]
  },
  {
   "cell_type": "code",
   "execution_count": 11,
   "metadata": {
    "collapsed": false
   },
   "outputs": [],
   "source": [
    "f0 = -(A/2)*(C - Cm)**2 + (B/4)*(C - Cm)**4 + (Calpha/4)*(C - Calpha)**4 + (Cbeta/4)*(C - Cbeta)**4"
   ]
  },
  {
   "cell_type": "code",
   "execution_count": 12,
   "metadata": {
    "collapsed": true
   },
   "outputs": [],
   "source": [
    "f = f0 + (kappa/2.)*(C.grad.mag)**2\n",
    "f.name = \"f\""
   ]
  },
  {
   "cell_type": "code",
   "execution_count": 13,
   "metadata": {
    "collapsed": false
   },
   "outputs": [],
   "source": [
    "Cf = C.arithmeticFaceValue\n",
    "eq = (fp.TransientTerm(coeff=1.)\n",
    "      == fp.DiffusionTerm(coeff=D*(-A + 3*B*(Cf - Cm)**2 + 3*Calpha*(Cf - Calpha)**2 + 3*Cbeta*(Cf - Cbeta)**2))\n",
    "      - fp.DiffusionTerm(coeff=(D,kappa)))"
   ]
  },
  {
   "cell_type": "code",
   "execution_count": 14,
   "metadata": {
    "collapsed": false
   },
   "outputs": [],
   "source": [
    "epsilon = 0.01\n",
    "theta = nmx.arctan2(mesh.z, nmx.sqrt(mesh.x**2 + mesh.y**2))\n",
    "phi = nmx.arctan2(mesh.y, mesh.x)\n",
    "C.value = 0.45 + epsilon * nmx.cos(nmx.sqrt(233.) * theta) * nmx.sin(nmx.sqrt(239.) * phi)"
   ]
  },
  {
   "cell_type": "code",
   "execution_count": null,
   "metadata": {
    "collapsed": false
   },
   "outputs": [],
   "source": [
    "fp.Viewer(vars=theta).plot()"
   ]
  },
  {
   "cell_type": "code",
   "execution_count": null,
   "metadata": {
    "collapsed": false
   },
   "outputs": [],
   "source": [
    "fp.Viewer(vars=phi).plot()"
   ]
  },
  {
   "cell_type": "code",
   "execution_count": null,
   "metadata": {
    "collapsed": false
   },
   "outputs": [],
   "source": [
    "viewer = fp.Viewer(vars=(C))"
   ]
  },
  {
   "cell_type": "code",
   "execution_count": null,
   "metadata": {
    "collapsed": false
   },
   "outputs": [],
   "source": [
    "viewer.plot()"
   ]
  },
  {
   "cell_type": "code",
   "execution_count": 15,
   "metadata": {
    "collapsed": true
   },
   "outputs": [],
   "source": [
    "x, y, z, value = nmx.loadtxt(fname=\"603.gz\", skiprows=2, unpack=True)\n",
    "C.value = value"
   ]
  },
  {
   "cell_type": "code",
   "execution_count": 16,
   "metadata": {
    "collapsed": true
   },
   "outputs": [],
   "source": [
    "with open(\"stats.txt\", 'w') as stats:\n",
    "    stats.write(\"\\t\".join([\"step\", \"t\", \"dt\", \"Cmin\", \"Cmax\", \"f\"]) + \"\\n\")"
   ]
  },
  {
   "cell_type": "code",
   "execution_count": 17,
   "metadata": {
    "collapsed": true
   },
   "outputs": [],
   "source": [
    "dt = 2.77319476396\n",
    "elapsed = 278.037953429\n",
    "saved = elapsed\n",
    "duration = 10000.\n",
    "step = 603"
   ]
  },
  {
   "cell_type": "code",
   "execution_count": 18,
   "metadata": {
    "collapsed": false
   },
   "outputs": [
    {
     "name": "stderr",
     "output_type": "stream",
     "text": [
      "/Users/guyer/anaconda/envs/fipy_petsc/lib/python2.7/site-packages/ipykernel/__main__.py:5: MaximumIterationWarning: Iterations: 1001. Relative error: 1.24764e-06\n",
      "/Users/guyer/anaconda/envs/fipy_petsc/lib/python2.7/site-packages/ipykernel/__main__.py:5: MaximumIterationWarning: Iterations: 1001. Relative error: 0.055683\n",
      "/Users/guyer/anaconda/envs/fipy_petsc/lib/python2.7/site-packages/ipykernel/__main__.py:5: MaximumIterationWarning: Iterations: 1001. Relative error: 8.73272e-05\n",
      "/Users/guyer/anaconda/envs/fipy_petsc/lib/python2.7/site-packages/ipykernel/__main__.py:5: MaximumIterationWarning: Iterations: 1001. Relative error: 1.21031e-07\n",
      "/Users/guyer/anaconda/envs/fipy_petsc/lib/python2.7/site-packages/ipykernel/__main__.py:5: MaximumIterationWarning: Iterations: 1001. Relative error: 0.0246807\n",
      "/Users/guyer/anaconda/envs/fipy_petsc/lib/python2.7/site-packages/ipykernel/__main__.py:5: MaximumIterationWarning: Iterations: 1001. Relative error: 0.278938\n",
      "/Users/guyer/anaconda/envs/fipy_petsc/lib/python2.7/site-packages/ipykernel/__main__.py:5: MaximumIterationWarning: Iterations: 1001. Relative error: 3.87592e-10\n",
      "/Users/guyer/anaconda/envs/fipy_petsc/lib/python2.7/site-packages/ipykernel/__main__.py:5: MaximumIterationWarning: Iterations: 1001. Relative error: 1.12323\n",
      "/Users/guyer/anaconda/envs/fipy_petsc/lib/python2.7/site-packages/ipykernel/__main__.py:5: MaximumIterationWarning: Iterations: 1001. Relative error: 0.0372705\n",
      "/Users/guyer/anaconda/envs/fipy_petsc/lib/python2.7/site-packages/ipykernel/__main__.py:5: MaximumIterationWarning: Iterations: 1001. Relative error: 4.64033\n",
      "/Users/guyer/anaconda/envs/fipy_petsc/lib/python2.7/site-packages/ipykernel/__main__.py:5: MaximumIterationWarning: Iterations: 1001. Relative error: 52.1705\n",
      "/Users/guyer/anaconda/envs/fipy_petsc/lib/python2.7/site-packages/ipykernel/__main__.py:5: MaximumIterationWarning: Iterations: 1001. Relative error: 78.9574\n",
      "/Users/guyer/anaconda/envs/fipy_petsc/lib/python2.7/site-packages/ipykernel/__main__.py:5: MaximumIterationWarning: Iterations: 1001. Relative error: 1034.65\n",
      "/Users/guyer/anaconda/envs/fipy_petsc/lib/python2.7/site-packages/ipykernel/__main__.py:5: MaximumIterationWarning: Iterations: 1001. Relative error: 1663.38\n",
      "/Users/guyer/anaconda/envs/fipy_petsc/lib/python2.7/site-packages/ipykernel/__main__.py:5: MaximumIterationWarning: Iterations: 1001. Relative error: 553.515\n",
      "/Users/guyer/anaconda/envs/fipy_petsc/lib/python2.7/site-packages/ipykernel/__main__.py:5: MaximumIterationWarning: Iterations: 1001. Relative error: 0.149157\n",
      "/Users/guyer/anaconda/envs/fipy_petsc/lib/python2.7/site-packages/ipykernel/__main__.py:5: StagnatedSolverWarning: The solver stagnated. Iterations: 897. Relative error: 8.74007e-09\n",
      "/Users/guyer/anaconda/envs/fipy_petsc/lib/python2.7/site-packages/ipykernel/__main__.py:5: StagnatedSolverWarning: The solver stagnated. Iterations: 269. Relative error: 8.64354e-09\n",
      "/Users/guyer/anaconda/envs/fipy_petsc/lib/python2.7/site-packages/ipykernel/__main__.py:5: StagnatedSolverWarning: The solver stagnated. Iterations: 871. Relative error: 5.3161e-09\n",
      "/Users/guyer/anaconda/envs/fipy_petsc/lib/python2.7/site-packages/ipykernel/__main__.py:5: StagnatedSolverWarning: The solver stagnated. Iterations: 873. Relative error: 6.4106e-09\n",
      "/Users/guyer/anaconda/envs/fipy_petsc/lib/python2.7/site-packages/ipykernel/__main__.py:5: StagnatedSolverWarning: The solver stagnated. Iterations: 913. Relative error: 5.91085e-09\n",
      "/Users/guyer/anaconda/envs/fipy_petsc/lib/python2.7/site-packages/ipykernel/__main__.py:5: StagnatedSolverWarning: The solver stagnated. Iterations: 844. Relative error: 7.76436e-09\n",
      "/Users/guyer/anaconda/envs/fipy_petsc/lib/python2.7/site-packages/ipykernel/__main__.py:5: StagnatedSolverWarning: The solver stagnated. Iterations: 954. Relative error: 5.23686e-09\n",
      "/Users/guyer/anaconda/envs/fipy_petsc/lib/python2.7/site-packages/ipykernel/__main__.py:5: StagnatedSolverWarning: The solver stagnated. Iterations: 955. Relative error: 5.43835e-09\n",
      "/Users/guyer/anaconda/envs/fipy_petsc/lib/python2.7/site-packages/ipykernel/__main__.py:5: StagnatedSolverWarning: The solver stagnated. Iterations: 857. Relative error: 7.15844e-09\n",
      "/Users/guyer/anaconda/envs/fipy_petsc/lib/python2.7/site-packages/ipykernel/__main__.py:5: StagnatedSolverWarning: The solver stagnated. Iterations: 954. Relative error: 6.37993e-09\n",
      "/Users/guyer/anaconda/envs/fipy_petsc/lib/python2.7/site-packages/ipykernel/__main__.py:5: StagnatedSolverWarning: The solver stagnated. Iterations: 863. Relative error: 8.04991e-09\n",
      "/Users/guyer/anaconda/envs/fipy_petsc/lib/python2.7/site-packages/ipykernel/__main__.py:5: StagnatedSolverWarning: The solver stagnated. Iterations: 952. Relative error: 6.06311e-09\n"
     ]
    },
    {
     "ename": "KeyboardInterrupt",
     "evalue": "",
     "output_type": "error",
     "traceback": [
      "\u001b[0;31m---------------------------------------------------------------------------\u001b[0m",
      "\u001b[0;31mKeyboardInterrupt\u001b[0m                         Traceback (most recent call last)",
      "\u001b[0;32m<ipython-input-18-2a86dbc46fc7>\u001b[0m in \u001b[0;36m<module>\u001b[0;34m()\u001b[0m\n\u001b[1;32m      3\u001b[0m     \u001b[0mdt\u001b[0m \u001b[0;34m=\u001b[0m \u001b[0;36m0.0651\u001b[0m \u001b[0;34m*\u001b[0m \u001b[0melapsed\u001b[0m\u001b[0;34m**\u001b[0m\u001b[0;34m(\u001b[0m\u001b[0;36m2.\u001b[0m\u001b[0;34m/\u001b[0m\u001b[0;36m3\u001b[0m\u001b[0;34m)\u001b[0m\u001b[0;34m\u001b[0m\u001b[0m\n\u001b[1;32m      4\u001b[0m     \u001b[0melapsed\u001b[0m \u001b[0;34m+=\u001b[0m \u001b[0mdt\u001b[0m\u001b[0;34m\u001b[0m\u001b[0m\n\u001b[0;32m----> 5\u001b[0;31m     \u001b[0meq\u001b[0m\u001b[0;34m.\u001b[0m\u001b[0msolve\u001b[0m\u001b[0;34m(\u001b[0m\u001b[0mC\u001b[0m\u001b[0;34m,\u001b[0m \u001b[0mdt\u001b[0m\u001b[0;34m=\u001b[0m\u001b[0mdt\u001b[0m\u001b[0;34m)\u001b[0m\u001b[0;34m\u001b[0m\u001b[0m\n\u001b[0m\u001b[1;32m      6\u001b[0m     \u001b[0mstep\u001b[0m \u001b[0;34m+=\u001b[0m \u001b[0;36m1\u001b[0m\u001b[0;34m\u001b[0m\u001b[0m\n\u001b[1;32m      7\u001b[0m     \u001b[0;32mif\u001b[0m \u001b[0melapsed\u001b[0m \u001b[0;34m-\u001b[0m \u001b[0msaved\u001b[0m \u001b[0;34m>\u001b[0m \u001b[0;36m10\u001b[0m\u001b[0;34m:\u001b[0m\u001b[0;34m\u001b[0m\u001b[0m\n",
      "\u001b[0;32m/Users/guyer/Documents/research/FiPy/fipy/fipy/terms/term.pyc\u001b[0m in \u001b[0;36msolve\u001b[0;34m(self, var, solver, boundaryConditions, dt)\u001b[0m\n\u001b[1;32m    198\u001b[0m         \u001b[0msolver\u001b[0m \u001b[0;34m=\u001b[0m \u001b[0mself\u001b[0m\u001b[0;34m.\u001b[0m\u001b[0m_prepareLinearSystem\u001b[0m\u001b[0;34m(\u001b[0m\u001b[0mvar\u001b[0m\u001b[0;34m,\u001b[0m \u001b[0msolver\u001b[0m\u001b[0;34m,\u001b[0m \u001b[0mboundaryConditions\u001b[0m\u001b[0;34m,\u001b[0m \u001b[0mdt\u001b[0m\u001b[0;34m)\u001b[0m\u001b[0;34m\u001b[0m\u001b[0m\n\u001b[1;32m    199\u001b[0m \u001b[0;34m\u001b[0m\u001b[0m\n\u001b[0;32m--> 200\u001b[0;31m         \u001b[0msolver\u001b[0m\u001b[0;34m.\u001b[0m\u001b[0m_solve\u001b[0m\u001b[0;34m(\u001b[0m\u001b[0;34m)\u001b[0m\u001b[0;34m\u001b[0m\u001b[0m\n\u001b[0m\u001b[1;32m    201\u001b[0m \u001b[0;34m\u001b[0m\u001b[0m\n\u001b[1;32m    202\u001b[0m     \u001b[0;32mdef\u001b[0m \u001b[0msweep\u001b[0m\u001b[0;34m(\u001b[0m\u001b[0mself\u001b[0m\u001b[0;34m,\u001b[0m \u001b[0mvar\u001b[0m\u001b[0;34m=\u001b[0m\u001b[0mNone\u001b[0m\u001b[0;34m,\u001b[0m \u001b[0msolver\u001b[0m\u001b[0;34m=\u001b[0m\u001b[0mNone\u001b[0m\u001b[0;34m,\u001b[0m \u001b[0mboundaryConditions\u001b[0m\u001b[0;34m=\u001b[0m\u001b[0;34m(\u001b[0m\u001b[0;34m)\u001b[0m\u001b[0;34m,\u001b[0m \u001b[0mdt\u001b[0m\u001b[0;34m=\u001b[0m\u001b[0mNone\u001b[0m\u001b[0;34m,\u001b[0m \u001b[0munderRelaxation\u001b[0m\u001b[0;34m=\u001b[0m\u001b[0mNone\u001b[0m\u001b[0;34m,\u001b[0m \u001b[0mresidualFn\u001b[0m\u001b[0;34m=\u001b[0m\u001b[0mNone\u001b[0m\u001b[0;34m,\u001b[0m \u001b[0mcacheResidual\u001b[0m\u001b[0;34m=\u001b[0m\u001b[0mFalse\u001b[0m\u001b[0;34m,\u001b[0m \u001b[0mcacheError\u001b[0m\u001b[0;34m=\u001b[0m\u001b[0mFalse\u001b[0m\u001b[0;34m)\u001b[0m\u001b[0;34m:\u001b[0m\u001b[0;34m\u001b[0m\u001b[0m\n",
      "\u001b[0;32m/Users/guyer/Documents/research/FiPy/fipy/fipy/solvers/pysparse/pysparseSolver.pyc\u001b[0m in \u001b[0;36m_solve\u001b[0;34m(self)\u001b[0m\n\u001b[1;32m    101\u001b[0m             \u001b[0;32mraise\u001b[0m \u001b[0mSolutionVariableNumberError\u001b[0m\u001b[0;34m\u001b[0m\u001b[0m\n\u001b[1;32m    102\u001b[0m \u001b[0;34m\u001b[0m\u001b[0m\n\u001b[0;32m--> 103\u001b[0;31m         \u001b[0mself\u001b[0m\u001b[0;34m.\u001b[0m\u001b[0m_solve_\u001b[0m\u001b[0;34m(\u001b[0m\u001b[0mself\u001b[0m\u001b[0;34m.\u001b[0m\u001b[0mmatrix\u001b[0m\u001b[0;34m,\u001b[0m \u001b[0marray\u001b[0m\u001b[0;34m,\u001b[0m \u001b[0mself\u001b[0m\u001b[0;34m.\u001b[0m\u001b[0mRHSvector\u001b[0m\u001b[0;34m)\u001b[0m\u001b[0;34m\u001b[0m\u001b[0m\n\u001b[0m\u001b[1;32m    104\u001b[0m         \u001b[0mfactor\u001b[0m \u001b[0;34m=\u001b[0m \u001b[0mself\u001b[0m\u001b[0;34m.\u001b[0m\u001b[0mvar\u001b[0m\u001b[0;34m.\u001b[0m\u001b[0munit\u001b[0m\u001b[0;34m.\u001b[0m\u001b[0mfactor\u001b[0m\u001b[0;34m\u001b[0m\u001b[0m\n\u001b[1;32m    105\u001b[0m         \u001b[0;32mif\u001b[0m \u001b[0mfactor\u001b[0m \u001b[0;34m!=\u001b[0m \u001b[0;36m1\u001b[0m\u001b[0;34m:\u001b[0m\u001b[0;34m\u001b[0m\u001b[0m\n",
      "\u001b[0;32m/Users/guyer/Documents/research/FiPy/fipy/fipy/solvers/pysparse/pysparseSolver.pyc\u001b[0m in \u001b[0;36m_solve_\u001b[0;34m(self, L, x, b)\u001b[0m\n\u001b[1;32m     74\u001b[0m \u001b[0;34m\u001b[0m\u001b[0m\n\u001b[1;32m     75\u001b[0m         info, iter, relres = self.solveFnc(A, b, x, self.tolerance, \n\u001b[0;32m---> 76\u001b[0;31m                                            self.iterations, P)\n\u001b[0m\u001b[1;32m     77\u001b[0m \u001b[0;34m\u001b[0m\u001b[0m\n\u001b[1;32m     78\u001b[0m         \u001b[0mself\u001b[0m\u001b[0;34m.\u001b[0m\u001b[0m_raiseWarning\u001b[0m\u001b[0;34m(\u001b[0m\u001b[0minfo\u001b[0m\u001b[0;34m,\u001b[0m \u001b[0miter\u001b[0m\u001b[0;34m,\u001b[0m \u001b[0mrelres\u001b[0m\u001b[0;34m)\u001b[0m\u001b[0;34m\u001b[0m\u001b[0m\n",
      "\u001b[0;32m/Users/guyer/anaconda/envs/fipy_petsc/lib/python2.7/site-packages/pysparse/misc/__init__.pyc\u001b[0m in \u001b[0;36mnewFunc\u001b[0;34m(*args, **kwargs)\u001b[0m\n\u001b[1;32m     27\u001b[0m                             \u001b[0mcategory\u001b[0m\u001b[0;34m=\u001b[0m\u001b[0mDeprecationWarning\u001b[0m\u001b[0;34m,\u001b[0m\u001b[0;34m\u001b[0m\u001b[0m\n\u001b[1;32m     28\u001b[0m                             stacklevel=2)\n\u001b[0;32m---> 29\u001b[0;31m             \u001b[0;32mreturn\u001b[0m \u001b[0mfunc\u001b[0m\u001b[0;34m(\u001b[0m\u001b[0;34m*\u001b[0m\u001b[0margs\u001b[0m\u001b[0;34m,\u001b[0m \u001b[0;34m**\u001b[0m\u001b[0mkwargs\u001b[0m\u001b[0;34m)\u001b[0m\u001b[0;34m\u001b[0m\u001b[0m\n\u001b[0m\u001b[1;32m     30\u001b[0m         \u001b[0mnewFunc\u001b[0m\u001b[0;34m.\u001b[0m\u001b[0m__name__\u001b[0m \u001b[0;34m=\u001b[0m \u001b[0mfunc\u001b[0m\u001b[0;34m.\u001b[0m\u001b[0m__name__\u001b[0m\u001b[0;34m\u001b[0m\u001b[0m\n\u001b[1;32m     31\u001b[0m         \u001b[0mnewFunc\u001b[0m\u001b[0;34m.\u001b[0m\u001b[0m__doc__\u001b[0m \u001b[0;34m=\u001b[0m \u001b[0mfunc\u001b[0m\u001b[0;34m.\u001b[0m\u001b[0m__doc__\u001b[0m\u001b[0;34m\u001b[0m\u001b[0m\n",
      "\u001b[0;32m/Users/guyer/anaconda/envs/fipy_petsc/lib/python2.7/site-packages/pysparse/itsolvers/itsolvers_util.pyc\u001b[0m in \u001b[0;36mpcg\u001b[0;34m(*args, **kwargs)\u001b[0m\n\u001b[1;32m    130\u001b[0m \u001b[0;34m@\u001b[0m\u001b[0mDeprecated\u001b[0m\u001b[0;34m(\u001b[0m\u001b[0;34m'Use pysparse.itsolvers.Pcg instead.'\u001b[0m\u001b[0;34m)\u001b[0m\u001b[0;34m\u001b[0m\u001b[0m\n\u001b[1;32m    131\u001b[0m \u001b[0;32mdef\u001b[0m \u001b[0mpcg\u001b[0m\u001b[0;34m(\u001b[0m\u001b[0;34m*\u001b[0m\u001b[0margs\u001b[0m\u001b[0;34m,\u001b[0m \u001b[0;34m**\u001b[0m\u001b[0mkwargs\u001b[0m\u001b[0;34m)\u001b[0m\u001b[0;34m:\u001b[0m\u001b[0;34m\u001b[0m\u001b[0m\n\u001b[0;32m--> 132\u001b[0;31m     \u001b[0;32mreturn\u001b[0m  \u001b[0mkrylov\u001b[0m\u001b[0;34m.\u001b[0m\u001b[0mpcg\u001b[0m\u001b[0;34m(\u001b[0m\u001b[0;34m*\u001b[0m\u001b[0margs\u001b[0m\u001b[0;34m,\u001b[0m \u001b[0;34m**\u001b[0m\u001b[0mkwargs\u001b[0m\u001b[0;34m)\u001b[0m\u001b[0;34m\u001b[0m\u001b[0m\n\u001b[0m\u001b[1;32m    133\u001b[0m \u001b[0;34m\u001b[0m\u001b[0m\n\u001b[1;32m    134\u001b[0m \u001b[0;34m@\u001b[0m\u001b[0mDeprecated\u001b[0m\u001b[0;34m(\u001b[0m\u001b[0;34m'Use pysparse.itsolvers.Minres instead.'\u001b[0m\u001b[0;34m)\u001b[0m\u001b[0;34m\u001b[0m\u001b[0m\n",
      "\u001b[0;31mKeyboardInterrupt\u001b[0m: "
     ]
    }
   ],
   "source": [
    "while elapsed < duration:\n",
    "    C.updateOld()\n",
    "    dt = 0.0651 * elapsed**(2./3)\n",
    "    elapsed += dt\n",
    "    eq.solve(C, dt=dt)\n",
    "    step += 1\n",
    "    if elapsed - saved > 10:\n",
    "        fp.TSVViewer(vars=C).plot(filename=\"{step}.gz\".format(step=step))\n",
    "        # viewer.plot()\n",
    "        saved = elapsed\n",
    "    with open(\"stats.txt\", 'a') as stats:\n",
    "        stats.write(\"\\t\".join([str(it) for it in [step, elapsed, dt, min(C), max(C), \n",
    "                                                  f.cellVolumeAverage * mesh.cellVolumes.sum()]]) + \"\\n\")"
   ]
  },
  {
   "cell_type": "code",
   "execution_count": null,
   "metadata": {
    "collapsed": true
   },
   "outputs": [],
   "source": []
  }
 ],
 "metadata": {
  "kernelspec": {
   "display_name": "Python 2",
   "language": "python",
   "name": "python2"
  },
  "language_info": {
   "codemirror_mode": {
    "name": "ipython",
    "version": 2
   },
   "file_extension": ".py",
   "mimetype": "text/x-python",
   "name": "python",
   "nbconvert_exporter": "python",
   "pygments_lexer": "ipython2",
   "version": "2.7.10"
  }
 },
 "nbformat": 4,
 "nbformat_minor": 0
}
