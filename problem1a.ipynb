{
 "cells": [
  {
   "cell_type": "code",
   "execution_count": 1,
   "metadata": {
    "collapsed": true
   },
   "outputs": [],
   "source": [
    "%matplotlib inline"
   ]
  },
  {
   "cell_type": "code",
   "execution_count": 2,
   "metadata": {
    "collapsed": true
   },
   "outputs": [],
   "source": [
    "import fipy as fp"
   ]
  },
  {
   "cell_type": "code",
   "execution_count": 3,
   "metadata": {
    "collapsed": true
   },
   "outputs": [],
   "source": [
    "from fipy import numerix as nmx"
   ]
  },
  {
   "cell_type": "code",
   "execution_count": 17,
   "metadata": {
    "collapsed": true
   },
   "outputs": [],
   "source": [
    "N = 200\n",
    "mesh = fp.PeriodicGrid2D(nx=N, ny=N)"
   ]
  },
  {
   "cell_type": "code",
   "execution_count": 18,
   "metadata": {
    "collapsed": true
   },
   "outputs": [],
   "source": [
    "C = fp.CellVariable(mesh=mesh, name=\"C\", hasOld=True)"
   ]
  },
  {
   "cell_type": "code",
   "execution_count": 19,
   "metadata": {
    "collapsed": true
   },
   "outputs": [],
   "source": [
    "Calpha = 0.05\n",
    "Cbeta = 0.95\n",
    "Cm = (Calpha + Cbeta) / 2.\n",
    "A = 2.0\n",
    "B = A / (Calpha - Cm)**2\n",
    "D = Dalpha = Dbeta = 2 / (Cbeta - Calpha)\n",
    "kappa = 2.0"
   ]
  },
  {
   "cell_type": "code",
   "execution_count": 20,
   "metadata": {
    "collapsed": false
   },
   "outputs": [],
   "source": [
    "f0 = -(A/2)*(C - Cm)**2 + (B/4)*(C - Cm)**4 + (Calpha/4)*(C - Calpha)**4 + (Cbeta/4)*(C - Cbeta)**4"
   ]
  },
  {
   "cell_type": "code",
   "execution_count": 21,
   "metadata": {
    "collapsed": true
   },
   "outputs": [],
   "source": [
    "f = f0 + (kappa/2.)*(C.grad.mag)**2\n",
    "f.name = \"f\""
   ]
  },
  {
   "cell_type": "code",
   "execution_count": 22,
   "metadata": {
    "collapsed": false
   },
   "outputs": [],
   "source": [
    "Cf = C.arithmeticFaceValue\n",
    "eq = (fp.TransientTerm(coeff=1.)\n",
    "      == fp.DiffusionTerm(coeff=D*(-A + 3*B*(Cf - Cm)**2 + 3*Calpha*(Cf - Calpha)**2 + 3*Cbeta*(Cf - Cbeta)**2))\n",
    "      - fp.DiffusionTerm(coeff=(D,kappa)))"
   ]
  },
  {
   "cell_type": "code",
   "execution_count": 23,
   "metadata": {
    "collapsed": false
   },
   "outputs": [
    {
     "data": {
      "image/png": "[encoded data removed]",
      "text/plain": [
       "<matplotlib.figure.Figure at 0x1075bb750>"
      ]
     },
     "metadata": {},
     "output_type": "display_data"
    }
   ],
   "source": [
    "viewer = fp.MatplotlibViewer(vars=C)"
   ]
  },
  {
   "cell_type": "code",
   "execution_count": 53,
   "metadata": {
    "collapsed": true
   },
   "outputs": [],
   "source": [
    "epsilon = 0.01\n",
    "q = [[nmx.sqrt(2.)], [nmx.sqrt(3.)]]\n",
    "C.value = 0.45 + epsilon * nmx.cos(nmx.dot(q, mesh.cellCenters))"
   ]
  },
  {
   "cell_type": "code",
   "execution_count": 54,
   "metadata": {
    "collapsed": true
   },
   "outputs": [],
   "source": [
    "dt = 0.01\n",
    "elapsed = 0.\n",
    "saved = elapsed\n",
    "duration = 10000.\n",
    "step = 0"
   ]
  },
  {
   "cell_type": "code",
   "execution_count": 31,
   "metadata": {
    "collapsed": true
   },
   "outputs": [],
   "source": [
    "import os"
   ]
  },
  {
   "cell_type": "code",
   "execution_count": 32,
   "metadata": {
    "collapsed": true
   },
   "outputs": [],
   "source": [
    "os.mkdir(\"1a\")"
   ]
  },
  {
   "cell_type": "code",
   "execution_count": 42,
   "metadata": {
    "collapsed": false
   },
   "outputs": [],
   "source": [
    "fp.tools.dump.write(mesh, filename=\"1a/mesh.dmp\")"
   ]
  },
  {
   "cell_type": "code",
   "execution_count": 43,
   "metadata": {
    "collapsed": true
   },
   "outputs": [],
   "source": [
    "fp.TSVViewer(vars=C).plot(filename=\"1a/{step}.gz\".format(step=0))"
   ]
  },
  {
   "cell_type": "code",
   "execution_count": 57,
   "metadata": {
    "collapsed": false
   },
   "outputs": [],
   "source": [
    "with open(\"1a/stats.txt\", 'w') as stats:\n",
    "    stats.write(\"\\t\".join([\"step\", \"t\", \"dt\", \"Cmin\", \"Cmax\", \"f\"]) + \"\\n\")"
   ]
  },
  {
   "cell_type": "code",
   "execution_count": null,
   "metadata": {
    "collapsed": false
   },
   "outputs": [],
   "source": [
    "while elapsed < duration:\n",
    "    C.updateOld()\n",
    "    for sweep in range(6):\n",
    "        res = eq.sweep(C, dt=dt) #, solver=fp.LinearLUSolver())\n",
    "    if res < 0.1:\n",
    "        step += 1\n",
    "        elapsed += dt\n",
    "        dt *= 1.1\n",
    "        if elapsed - saved > 10:\n",
    "            fp.TSVViewer(vars=C).plot(filename=\"1a/{step}.gz\".format(step=step))\n",
    "            # viewer.plot()\n",
    "            saved = elapsed\n",
    "        with open(\"1a/stats.txt\", 'a') as stats:\n",
    "            stats.write(\"\\t\".join([str(it) for it in [step, elapsed, dt, min(C), max(C), \n",
    "                                                      f.cellVolumeAverage * mesh.cellVolumes.sum()]]) + \"\\n\")\n",
    "    else:\n",
    "        dt *= 0.8\n",
    "        C.value = C.old.value\n"
   ]
  }
 ],
 "metadata": {
  "kernelspec": {
   "display_name": "Python 2",
   "language": "python",
   "name": "python2"
  },
  "language_info": {
   "codemirror_mode": {
    "name": "ipython",
    "version": 2
   },
   "file_extension": ".py",
   "mimetype": "text/x-python",
   "name": "python",
   "nbconvert_exporter": "python",
   "pygments_lexer": "ipython2",
   "version": "2.7.10"
  }
 },
 "nbformat": 4,
 "nbformat_minor": 0
}
